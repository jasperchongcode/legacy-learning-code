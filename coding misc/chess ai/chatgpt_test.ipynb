{
 "cells": [
  {
   "cell_type": "code",
   "execution_count": 3,
   "metadata": {},
   "outputs": [
    {
     "name": "stdout",
     "output_type": "stream",
     "text": [
      "0\n",
      "1\n",
      "2\n",
      "3\n",
      "4\n",
      "5\n",
      "6\n",
      "7\n",
      "8\n",
      "9\n",
      "10\n",
      "11\n",
      "12\n",
      "13\n",
      "14\n",
      "15\n",
      "16\n",
      "17\n",
      "18\n",
      "19\n",
      "20\n",
      "21\n",
      "22\n",
      "23\n",
      "24\n",
      "25\n",
      "26\n",
      "27\n",
      "28\n",
      "29\n",
      "30\n",
      "31\n",
      "32\n",
      "33\n",
      "34\n",
      "35\n",
      "36\n",
      "37\n",
      "38\n",
      "39\n",
      "40\n",
      "41\n",
      "42\n",
      "43\n",
      "44\n",
      "45\n",
      "46\n",
      "47\n",
      "48\n",
      "49\n",
      "50\n",
      "51\n",
      "52\n",
      "53\n",
      "54\n",
      "55\n",
      "56\n",
      "57\n",
      "58\n",
      "59\n",
      "60\n",
      "61\n",
      "62\n",
      "63\n",
      "[[[ 0  0  0 -1  0  0]\n",
      "  [ 0 -1  0  0  0  0]\n",
      "  [ 0  0 -1  0  0  0]\n",
      "  [ 0  0  0  0 -1  0]\n",
      "  [ 0  0  0  0  0 -1]\n",
      "  [ 0  0 -1  0  0  0]\n",
      "  [ 0 -1  0  0  0  0]\n",
      "  [ 0  0  0 -1  0  0]]\n",
      "\n",
      " [[-1  0  0  0  0  0]\n",
      "  [-1  0  0  0  0  0]\n",
      "  [-1  0  0  0  0  0]\n",
      "  [-1  0  0  0  0  0]\n",
      "  [-1  0  0  0  0  0]\n",
      "  [-1  0  0  0  0  0]\n",
      "  [-1  0  0  0  0  0]\n",
      "  [-1  0  0  0  0  0]]\n",
      "\n",
      " [[ 0  0  0  0  0  0]\n",
      "  [ 0  0  0  0  0  0]\n",
      "  [ 0  0  0  0  0  0]\n",
      "  [ 0  0  0  0  0  0]\n",
      "  [ 0  0  0  0  0  0]\n",
      "  [ 0  0  0  0  0  0]\n",
      "  [ 0  0  0  0  0  0]\n",
      "  [ 0  0  0  0  0  0]]\n",
      "\n",
      " [[ 0  0  0  0  0  0]\n",
      "  [ 0  0  0  0  0  0]\n",
      "  [ 0  0  0  0  0  0]\n",
      "  [ 0  0  0  0  0  0]\n",
      "  [ 0  0  0  0  0  0]\n",
      "  [ 0  0  0  0  0  0]\n",
      "  [ 0  0  0  0  0  0]\n",
      "  [ 0  0  0  0  0  0]]\n",
      "\n",
      " [[ 0  0  0  0  0  0]\n",
      "  [ 0  0  0  0  0  0]\n",
      "  [ 0  0  0  0  0  0]\n",
      "  [ 0  0  0  0  0  0]\n",
      "  [ 0  0  0  0  0  0]\n",
      "  [ 0  0  0  0  0  0]\n",
      "  [ 0  0  0  0  0  0]\n",
      "  [ 0  0  0  0  0  0]]\n",
      "\n",
      " [[ 0  0  0  0  0  0]\n",
      "  [ 0  0  0  0  0  0]\n",
      "  [ 0  0  0  0  0  0]\n",
      "  [ 0  0  0  0  0  0]\n",
      "  [ 0  0  0  0  0  0]\n",
      "  [ 0  0  0  0  0  0]\n",
      "  [ 0  0  0  0  0  0]\n",
      "  [ 0  0  0  0  0  0]]\n",
      "\n",
      " [[-1  0  0  0  0  0]\n",
      "  [-1  0  0  0  0  0]\n",
      "  [-1  0  0  0  0  0]\n",
      "  [-1  0  0  0  0  0]\n",
      "  [-1  0  0  0  0  0]\n",
      "  [-1  0  0  0  0  0]\n",
      "  [-1  0  0  0  0  0]\n",
      "  [-1  0  0  0  0  0]]\n",
      "\n",
      " [[ 0  0  0 -1  0  0]\n",
      "  [ 0 -1  0  0  0  0]\n",
      "  [ 0  0 -1  0  0  0]\n",
      "  [ 0  0  0  0 -1  0]\n",
      "  [ 0  0  0  0  0 -1]\n",
      "  [ 0  0 -1  0  0  0]\n",
      "  [ 0 -1  0  0  0  0]\n",
      "  [ 0  0  0 -1  0  0]]]\n"
     ]
    }
   ],
   "source": [
    "import chess\n",
    "import numpy as np\n",
    "\n",
    "# Create a chess board object\n",
    "board = chess.Board()\n",
    "\n",
    "# Define the dimensions of the chessboard\n",
    "rows = 8\n",
    "cols = 8\n",
    "\n",
    "# Create an empty 3D array with shape (rows, cols, 6)\n",
    "chessboard = np.zeros((rows, cols, 6), dtype=np.int8)\n",
    "\n",
    "# Map piece types to layer indices\n",
    "piece_to_layer = {'p': 0, 'n': 1, 'b': 2, 'r': 3, 'q': 4, 'k': 5}\n",
    "\n",
    "# Populate the chessboard array with the initial positions\n",
    "for square in chess.SQUARES:\n",
    "    print(square)\n",
    "    if board.piece_at(square):\n",
    "        piece = board.piece_at(square).symbol().lower()\n",
    "        layer = piece_to_layer[piece]\n",
    "        piece_value = -1 if piece.islower() else 1\n",
    "        rank, file = chess.square_rank(square), chess.square_file(square)\n",
    "        chessboard[rank, file, layer] = piece_value\n",
    "\n",
    "# Print the chessboard array\n",
    "print(chessboard)\n"
   ]
  },
  {
   "cell_type": "code",
   "execution_count": 5,
   "metadata": {},
   "outputs": [
    {
     "ename": "ValueError",
     "evalue": "cannot reshape array of size 51 into shape (8,8)",
     "output_type": "error",
     "traceback": [
      "\u001b[0;31m---------------------------------------------------------------------------\u001b[0m",
      "\u001b[0;31mValueError\u001b[0m                                Traceback (most recent call last)",
      "\u001b[1;32m/Users/jasperchong/Desktop/chess ai/chatgpt_test.ipynb Cell 2\u001b[0m in \u001b[0;36m<cell line: 39>\u001b[0;34m()\u001b[0m\n\u001b[1;32m     <a href='vscode-notebook-cell:/Users/jasperchong/Desktop/chess%20ai/chatgpt_test.ipynb#W1sZmlsZQ%3D%3D?line=36'>37</a>\u001b[0m \u001b[39m# Create a chess board and convert it to a 3D matrix with moves\u001b[39;00m\n\u001b[1;32m     <a href='vscode-notebook-cell:/Users/jasperchong/Desktop/chess%20ai/chatgpt_test.ipynb#W1sZmlsZQ%3D%3D?line=37'>38</a>\u001b[0m board \u001b[39m=\u001b[39m chess\u001b[39m.\u001b[39mBoard()\n\u001b[0;32m---> <a href='vscode-notebook-cell:/Users/jasperchong/Desktop/chess%20ai/chatgpt_test.ipynb#W1sZmlsZQ%3D%3D?line=38'>39</a>\u001b[0m board_array \u001b[39m=\u001b[39m board_to_array(board)\n\u001b[1;32m     <a href='vscode-notebook-cell:/Users/jasperchong/Desktop/chess%20ai/chatgpt_test.ipynb#W1sZmlsZQ%3D%3D?line=39'>40</a>\u001b[0m \u001b[39mprint\u001b[39m(board_array)\n",
      "\u001b[1;32m/Users/jasperchong/Desktop/chess ai/chatgpt_test.ipynb Cell 2\u001b[0m in \u001b[0;36mboard_to_array\u001b[0;34m(board)\u001b[0m\n\u001b[1;32m     <a href='vscode-notebook-cell:/Users/jasperchong/Desktop/chess%20ai/chatgpt_test.ipynb#W1sZmlsZQ%3D%3D?line=27'>28</a>\u001b[0m layers \u001b[39m=\u001b[39m []\n\u001b[1;32m     <a href='vscode-notebook-cell:/Users/jasperchong/Desktop/chess%20ai/chatgpt_test.ipynb#W1sZmlsZQ%3D%3D?line=28'>29</a>\u001b[0m \u001b[39mfor\u001b[39;00m piece \u001b[39min\u001b[39;00m pieces:\n\u001b[0;32m---> <a href='vscode-notebook-cell:/Users/jasperchong/Desktop/chess%20ai/chatgpt_test.ipynb#W1sZmlsZQ%3D%3D?line=29'>30</a>\u001b[0m     layer \u001b[39m=\u001b[39m layer_to_array(board, piece)\n\u001b[1;32m     <a href='vscode-notebook-cell:/Users/jasperchong/Desktop/chess%20ai/chatgpt_test.ipynb#W1sZmlsZQ%3D%3D?line=30'>31</a>\u001b[0m     layers\u001b[39m.\u001b[39mappend(layer)\n\u001b[1;32m     <a href='vscode-notebook-cell:/Users/jasperchong/Desktop/chess%20ai/chatgpt_test.ipynb#W1sZmlsZQ%3D%3D?line=31'>32</a>\u001b[0m moves \u001b[39m=\u001b[39m moves_to_array(board)\n",
      "\u001b[1;32m/Users/jasperchong/Desktop/chess ai/chatgpt_test.ipynb Cell 2\u001b[0m in \u001b[0;36mlayer_to_array\u001b[0;34m(board, piece)\u001b[0m\n\u001b[1;32m     <a href='vscode-notebook-cell:/Users/jasperchong/Desktop/chess%20ai/chatgpt_test.ipynb#W1sZmlsZQ%3D%3D?line=12'>13</a>\u001b[0m fen \u001b[39m=\u001b[39m re\u001b[39m.\u001b[39msub(\u001b[39mf\u001b[39m\u001b[39m'\u001b[39m\u001b[39m/\u001b[39m\u001b[39m'\u001b[39m, \u001b[39m'\u001b[39m\u001b[39m'\u001b[39m, fen)\n\u001b[1;32m     <a href='vscode-notebook-cell:/Users/jasperchong/Desktop/chess%20ai/chatgpt_test.ipynb#W1sZmlsZQ%3D%3D?line=13'>14</a>\u001b[0m board_array \u001b[39m=\u001b[39m np\u001b[39m.\u001b[39marray(\u001b[39mlist\u001b[39m(fen))\n\u001b[0;32m---> <a href='vscode-notebook-cell:/Users/jasperchong/Desktop/chess%20ai/chatgpt_test.ipynb#W1sZmlsZQ%3D%3D?line=14'>15</a>\u001b[0m \u001b[39mreturn\u001b[39;00m board_array\u001b[39m.\u001b[39;49mreshape(\u001b[39m8\u001b[39;49m, \u001b[39m8\u001b[39;49m)\u001b[39m.\u001b[39mastype(\u001b[39mint\u001b[39m)\n",
      "\u001b[0;31mValueError\u001b[0m: cannot reshape array of size 51 into shape (8,8)"
     ]
    }
   ],
   "source": [
    "import re\n",
    "import chess\n",
    "import numpy as np\n",
    "\n",
    "letter_to_number = {'a': 0, 'b': 1, 'c': 2, 'd': 3, 'e': 4, 'f': 5, 'g': 6, 'h': 7}\n",
    "number_to_letter = {0: 'a', 1: 'b', 2: 'c', 3: 'd', 4: 'e', 5: 'f', 6: 'g', 7: 'h'}\n",
    "\n",
    "def layer_to_array(board, piece):\n",
    "    fen = board.fen().split()[0]\n",
    "    fen = re.sub(f'[^{piece}{piece.upper()}]', '.', fen)\n",
    "    fen = re.sub(f'{piece}', '-1', fen)\n",
    "    fen = re.sub(f'{piece.upper()}', '1', fen)\n",
    "    fen = re.sub(f'/', '', fen)\n",
    "    board_array = np.array(list(fen))\n",
    "    return board_array.reshape(8, 8).astype(int)\n",
    "\n",
    "def moves_to_array(board):\n",
    "    moves = np.zeros((64), dtype=int)\n",
    "    for move in board.legal_moves:\n",
    "        from_square = move.from_square\n",
    "        to_square = move.to_square\n",
    "        moves[from_square] = 1\n",
    "        moves[to_square] = 1\n",
    "    return moves.reshape(8, 8)\n",
    "\n",
    "def board_to_array(board):\n",
    "    pieces = ['p', 'n', 'b', 'r', 'q', 'k']\n",
    "    layers = []\n",
    "    for piece in pieces:\n",
    "        layer = layer_to_array(board, piece)\n",
    "        layers.append(layer)\n",
    "    moves = moves_to_array(board)\n",
    "    layers.append(moves)\n",
    "    board_array = np.stack(layers)\n",
    "    return board_array\n",
    "\n",
    "# Create a chess board and convert it to a 3D matrix with moves\n",
    "board = chess.Board()\n",
    "board_array = board_to_array(board)\n",
    "print(board_array)\n"
   ]
  },
  {
   "cell_type": "code",
   "execution_count": 6,
   "metadata": {},
   "outputs": [
    {
     "name": "stdout",
     "output_type": "stream",
     "text": [
      "Piece 1:\n",
      "[[  0   0   0   0   0   0   0   0]\n",
      " [  0   0   0   0   0   0   0   0]\n",
      " [  0   0   0   0   0   0   0   0]\n",
      " [  0   0   0   0   0   0   0   0]\n",
      " [  0   0   0   0   0   0   0   0]\n",
      " [  0   0   0   0   0   0   0   0]\n",
      " [255 255 255 255 255 255 255 255]\n",
      " [  0   0   0   0   0   0   0   0]]\n",
      "\n",
      "Piece 2:\n",
      "[[0 0 0 0 0 0 0 0]\n",
      " [0 0 0 0 0 0 0 0]\n",
      " [0 0 0 0 0 0 0 0]\n",
      " [0 0 0 0 0 0 0 0]\n",
      " [0 0 0 0 0 0 0 0]\n",
      " [0 0 0 0 0 0 0 0]\n",
      " [0 0 0 0 0 0 0 0]\n",
      " [1 0 0 0 0 0 0 1]]\n",
      "\n",
      "Piece 3:\n",
      "[[0 0 0 0 0 0 0 0]\n",
      " [0 0 0 0 0 0 0 0]\n",
      " [0 0 0 0 0 0 0 0]\n",
      " [0 0 0 0 0 0 0 0]\n",
      " [0 0 0 0 0 0 0 0]\n",
      " [0 0 0 0 0 0 0 0]\n",
      " [0 0 0 0 0 0 0 0]\n",
      " [0 1 0 0 0 0 1 0]]\n",
      "\n",
      "Piece 4:\n",
      "[[0 0 0 0 0 0 0 0]\n",
      " [0 0 0 0 0 0 0 0]\n",
      " [0 0 0 0 0 0 0 0]\n",
      " [0 0 0 0 0 0 0 0]\n",
      " [0 0 0 0 0 0 0 0]\n",
      " [0 0 0 0 0 0 0 0]\n",
      " [0 0 0 0 0 0 0 0]\n",
      " [0 0 1 0 0 1 0 0]]\n",
      "\n",
      "Piece 5:\n",
      "[[0 0 0 0 0 0 0 0]\n",
      " [0 0 0 0 0 0 0 0]\n",
      " [0 0 0 0 0 0 0 0]\n",
      " [0 0 0 0 0 0 0 0]\n",
      " [0 0 0 0 0 0 0 0]\n",
      " [0 0 0 0 0 0 0 0]\n",
      " [0 0 0 0 0 0 0 0]\n",
      " [0 0 0 1 0 0 0 0]]\n",
      "\n",
      "Piece 6:\n",
      "[[0 0 0 0 0 0 0 0]\n",
      " [0 0 0 0 0 0 0 0]\n",
      " [0 0 0 0 0 0 0 0]\n",
      " [0 0 0 0 0 0 0 0]\n",
      " [0 0 0 0 0 0 0 0]\n",
      " [0 0 0 0 0 0 0 0]\n",
      " [0 0 0 0 0 0 0 0]\n",
      " [0 0 0 0 1 0 0 0]]\n",
      "\n",
      "Piece 7:\n",
      "[[  0   0   0   0   0   0   0   0]\n",
      " [255 255 255 255 255 255 255 255]\n",
      " [  0   0   0   0   0   0   0   0]\n",
      " [  0   0   0   0   0   0   0   0]\n",
      " [  0   0   0   0   0   0   0   0]\n",
      " [  0   0   0   0   0   0   0   0]\n",
      " [  0   0   0   0   0   0   0   0]\n",
      " [  0   0   0   0   0   0   0   0]]\n",
      "\n",
      "Piece 8:\n",
      "[[1 0 0 0 0 0 0 1]\n",
      " [0 0 0 0 0 0 0 0]\n",
      " [0 0 0 0 0 0 0 0]\n",
      " [0 0 0 0 0 0 0 0]\n",
      " [0 0 0 0 0 0 0 0]\n",
      " [0 0 0 0 0 0 0 0]\n",
      " [0 0 0 0 0 0 0 0]\n",
      " [0 0 0 0 0 0 0 0]]\n",
      "\n",
      "Piece 9:\n",
      "[[0 1 0 0 0 0 1 0]\n",
      " [0 0 0 0 0 0 0 0]\n",
      " [0 0 0 0 0 0 0 0]\n",
      " [0 0 0 0 0 0 0 0]\n",
      " [0 0 0 0 0 0 0 0]\n",
      " [0 0 0 0 0 0 0 0]\n",
      " [0 0 0 0 0 0 0 0]\n",
      " [0 0 0 0 0 0 0 0]]\n",
      "\n",
      "Piece 10:\n",
      "[[0 0 1 0 0 1 0 0]\n",
      " [0 0 0 0 0 0 0 0]\n",
      " [0 0 0 0 0 0 0 0]\n",
      " [0 0 0 0 0 0 0 0]\n",
      " [0 0 0 0 0 0 0 0]\n",
      " [0 0 0 0 0 0 0 0]\n",
      " [0 0 0 0 0 0 0 0]\n",
      " [0 0 0 0 0 0 0 0]]\n",
      "\n",
      "Piece 11:\n",
      "[[0 0 0 1 0 0 0 0]\n",
      " [0 0 0 0 0 0 0 0]\n",
      " [0 0 0 0 0 0 0 0]\n",
      " [0 0 0 0 0 0 0 0]\n",
      " [0 0 0 0 0 0 0 0]\n",
      " [0 0 0 0 0 0 0 0]\n",
      " [0 0 0 0 0 0 0 0]\n",
      " [0 0 0 0 0 0 0 0]]\n",
      "\n",
      "Piece 12:\n",
      "[[0 0 0 0 1 0 0 0]\n",
      " [0 0 0 0 0 0 0 0]\n",
      " [0 0 0 0 0 0 0 0]\n",
      " [0 0 0 0 0 0 0 0]\n",
      " [0 0 0 0 0 0 0 0]\n",
      " [0 0 0 0 0 0 0 0]\n",
      " [0 0 0 0 0 0 0 0]\n",
      " [0 0 0 0 0 0 0 0]]\n",
      "\n"
     ]
    }
   ],
   "source": [
    "import numpy as np\n",
    "\n",
    "# Create a 8x8x12 NumPy array\n",
    "bitboard = np.zeros((8, 8, 12), dtype=np.uint64)\n",
    "\n",
    "# Define the bitboard representation of the default chess starting position\n",
    "bitboard[6, :, 0] = 0b11111111  # White Pawns\n",
    "bitboard[7, [0, 7], 1] = 0b1  # White Knights\n",
    "bitboard[7, [1, 6], 2] = 0b1  # White Bishops\n",
    "bitboard[7, [2, 5], 3] = 0b1  # White Rooks\n",
    "bitboard[7, 3, 4] = 0b1  # White Queen\n",
    "bitboard[7, 4, 5] = 0b1  # White King\n",
    "\n",
    "bitboard[1, :, 6] = 0b11111111  # Black Pawns\n",
    "bitboard[0, [0, 7], 7] = 0b1  # Black Knights\n",
    "bitboard[0, [1, 6], 8] = 0b1  # Black Bishops\n",
    "bitboard[0, [2, 5], 9] = 0b1  # Black Rooks\n",
    "bitboard[0, 3, 10] = 0b1  # Black Queen\n",
    "bitboard[0, 4, 11] = 0b1  # Black King\n",
    "\n",
    "# Print the bitboard representation\n",
    "for i in range(12):\n",
    "    print(f'Piece {i+1}:')\n",
    "    print(bitboard[..., i])\n",
    "    print()"
   ]
  },
  {
   "cell_type": "code",
   "execution_count": 45,
   "metadata": {},
   "outputs": [
    {
     "ename": "TypeError",
     "evalue": "'fen' is an invalid keyword argument for int()",
     "output_type": "error",
     "traceback": [
      "\u001b[0;31m---------------------------------------------------------------------------\u001b[0m",
      "\u001b[0;31mTypeError\u001b[0m                                 Traceback (most recent call last)",
      "\u001b[1;32m/Users/jasperchong/Desktop/chess ai/chatgpt_test.ipynb Cell 4\u001b[0m in \u001b[0;36m<cell line: 6>\u001b[0;34m()\u001b[0m\n\u001b[1;32m      <a href='vscode-notebook-cell:/Users/jasperchong/Desktop/chess%20ai/chatgpt_test.ipynb#W4sZmlsZQ%3D%3D?line=3'>4</a>\u001b[0m board\u001b[39m.\u001b[39mpush_san(\u001b[39m'\u001b[39m\u001b[39mNf3\u001b[39m\u001b[39m'\u001b[39m)\n\u001b[1;32m      <a href='vscode-notebook-cell:/Users/jasperchong/Desktop/chess%20ai/chatgpt_test.ipynb#W4sZmlsZQ%3D%3D?line=4'>5</a>\u001b[0m board\u001b[39m.\u001b[39mcastling_rights\n\u001b[0;32m----> <a href='vscode-notebook-cell:/Users/jasperchong/Desktop/chess%20ai/chatgpt_test.ipynb#W4sZmlsZQ%3D%3D?line=5'>6</a>\u001b[0m \u001b[39mprint\u001b[39m(chess\u001b[39m.\u001b[39;49mBitboard(fen\u001b[39m=\u001b[39;49mchess\u001b[39m.\u001b[39;49mSTARTING_BOARD_FEN))\n",
      "\u001b[0;31mTypeError\u001b[0m: 'fen' is an invalid keyword argument for int()"
     ]
    }
   ],
   "source": [
    "import chess\n",
    "\n",
    "board = chess.Board()\n",
    "board.push_san('Nf3')\n",
    "board.castling_rights\n",
    "print(chess.Bitboard(fen=chess.STARTING_BOARD_FEN))\n",
    "\n"
   ]
  },
  {
   "cell_type": "code",
   "execution_count": 35,
   "metadata": {},
   "outputs": [],
   "source": [
    "board.ep_square"
   ]
  },
  {
   "cell_type": "code",
   "execution_count": 36,
   "metadata": {},
   "outputs": [
    {
     "data": {
      "text/plain": [
       "<PseudoLegalMoveGenerator at 0x11198bcd0 (Nh6, Nf6, Nc6, Na6, h6, g6, f6, e6, d6, c6, b6, a6, h5, g5, f5, e5, d5, c5, b5, a5)>"
      ]
     },
     "execution_count": 36,
     "metadata": {},
     "output_type": "execute_result"
    }
   ],
   "source": [
    "board.pseudo_legal_moves"
   ]
  },
  {
   "cell_type": "code",
   "execution_count": 37,
   "metadata": {},
   "outputs": [
    {
     "data": {
      "text/plain": [
       "Move.from_uci('g1f3')"
      ]
     },
     "execution_count": 37,
     "metadata": {},
     "output_type": "execute_result"
    }
   ],
   "source": [
    "board.peek()"
   ]
  },
  {
   "cell_type": "code",
   "execution_count": 38,
   "metadata": {},
   "outputs": [
    {
     "data": {
      "text/plain": [
       "'rnbqkbnr/pppppppp/8/8/8/5N2/PPPPPPPP/RNBQKB1R b KQkq - 1 1'"
      ]
     },
     "execution_count": 38,
     "metadata": {},
     "output_type": "execute_result"
    }
   ],
   "source": [
    "board.fen()"
   ]
  },
  {
   "cell_type": "code",
   "execution_count": null,
   "metadata": {},
   "outputs": [],
   "source": []
  },
  {
   "cell_type": "code",
   "execution_count": 41,
   "metadata": {},
   "outputs": [
    {
     "data": {
      "text/plain": [
       "<Status.VALID: 0>"
      ]
     },
     "execution_count": 41,
     "metadata": {},
     "output_type": "execute_result"
    }
   ],
   "source": [
    "board.status()"
   ]
  },
  {
   "cell_type": "code",
   "execution_count": 51,
   "metadata": {},
   "outputs": [
    {
     "data": {
      "text/plain": [
       "'rnbqkbnr/pppppppp/8/8/4P3/8/PPPP1PPP/RNBQKBNR b KQkq - 0 1'"
      ]
     },
     "execution_count": 51,
     "metadata": {},
     "output_type": "execute_result"
    }
   ],
   "source": [
    "board.fen()"
   ]
  },
  {
   "cell_type": "code",
   "execution_count": 66,
   "metadata": {},
   "outputs": [],
   "source": [
    "board.reset_board()"
   ]
  },
  {
   "cell_type": "code",
   "execution_count": 64,
   "metadata": {},
   "outputs": [],
   "source": [
    "moves = ['e4','Na6', 'e5', 'd5']\n",
    "for move in moves:\n",
    "    board.push_san(move)"
   ]
  },
  {
   "cell_type": "code",
   "execution_count": 69,
   "metadata": {},
   "outputs": [
    {
     "data": {
      "text/plain": [
       "'e3'"
      ]
     },
     "execution_count": 69,
     "metadata": {},
     "output_type": "execute_result"
    }
   ],
   "source": [
    "chess.square_name(board.ep_square)"
   ]
  },
  {
   "cell_type": "code",
   "execution_count": 67,
   "metadata": {},
   "outputs": [
    {
     "data": {
      "text/plain": [
       "Move.from_uci('e2e4')"
      ]
     },
     "execution_count": 67,
     "metadata": {},
     "output_type": "execute_result"
    }
   ],
   "source": [
    "board.push_san('e4')"
   ]
  },
  {
   "cell_type": "code",
   "execution_count": null,
   "metadata": {},
   "outputs": [],
   "source": []
  }
 ],
 "metadata": {
  "kernelspec": {
   "display_name": "base",
   "language": "python",
   "name": "python3"
  },
  "language_info": {
   "codemirror_mode": {
    "name": "ipython",
    "version": 3
   },
   "file_extension": ".py",
   "mimetype": "text/x-python",
   "name": "python",
   "nbconvert_exporter": "python",
   "pygments_lexer": "ipython3",
   "version": "3.9.13"
  },
  "orig_nbformat": 4
 },
 "nbformat": 4,
 "nbformat_minor": 2
}
