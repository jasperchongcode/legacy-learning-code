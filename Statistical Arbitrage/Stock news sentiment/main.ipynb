{
 "cells": [
  {
   "cell_type": "markdown",
   "metadata": {},
   "source": [
    "This first project aims to follow this tutorial: https://www.youtube.com/watch?v=o-zM8onpQZY\n",
    "\n",
    "\n",
    "following this i will out my own spin on it and expand the concept (with my own writeup for the site)\n",
    "\n",
    "\n",
    "after the first creation i will try and replicate it using yahoo finance for australian stocks\n",
    "\n",
    "\n",
    "make one function for the entire parsing process\n",
    "\n",
    "\n",
    "\n",
    "\n",
    "get data from yahoo finance, try getting the sentiment for different currencies, then make a backtester using yahoo finance data. maybe try with stocks first and switch to forex\n",
    "\n",
    "maybe try and write out a ton of basic strategies"
   ]
  },
  {
   "cell_type": "code",
   "execution_count": null,
   "metadata": {},
   "outputs": [],
   "source": []
  },
  {
   "cell_type": "code",
   "execution_count": null,
   "metadata": {},
   "outputs": [],
   "source": []
  },
  {
   "cell_type": "code",
   "execution_count": 4,
   "metadata": {},
   "outputs": [],
   "source": [
    "from urllib.request import urlopen, Request\n",
    "from bs4 import BeautifulSoup\n",
    "\n",
    "# for todays date\n",
    "from datetime import date as dt"
   ]
  },
  {
   "cell_type": "markdown",
   "metadata": {},
   "source": [
    "The link:\n",
    "* https://finviz.com/quote.ashx?t=VIRC&p=d\n",
    "\n",
    "note how the ticker is part of the link"
   ]
  },
  {
   "cell_type": "code",
   "execution_count": 5,
   "metadata": {},
   "outputs": [],
   "source": [
    "# url ready to add the ticker to\n",
    "finviz_url = \"https://finviz.com/quote.ashx?t=\"\n",
    "# tickers to investigate\n",
    "tickers = ['AMZN', 'AMD', 'META']"
   ]
  },
  {
   "cell_type": "code",
   "execution_count": 99,
   "metadata": {},
   "outputs": [],
   "source": [
    "# get data for each ticker\n",
    "\n",
    "news_tables = {}\n",
    "# id for the news table\n",
    "news_table_id ='news-table'\n",
    "for ticker in tickers:\n",
    "    url = finviz_url + ticker\n",
    "\n",
    "    req = Request(url=url, headers={'user-agent': 'my-app'})\n",
    "    response = urlopen(req)\n",
    "\n",
    "    # now we have a http response object that can be parsed by beautiful soup\n",
    "    html = BeautifulSoup(response, 'html')\n",
    "\n",
    "    # we will now parse the html by the id for the table the news data is in \n",
    "    news_table = html.find(id=news_table_id)\n",
    "    # add to dict\n",
    "    news_tables[ticker] = news_table"
   ]
  },
  {
   "cell_type": "code",
   "execution_count": 102,
   "metadata": {},
   "outputs": [
    {
     "name": "stdout",
     "output_type": "stream",
     "text": [
      "['META', 'Sep-25-23', '05:45PM', 'Meta Platforms (META) Outpaces Stock Market Gains: What You Should Know']\n"
     ]
    }
   ],
   "source": [
    "# now find the headlines from the table (make this a function later)\n",
    "\n",
    "parsed_data = []\n",
    "for ticker, news_table in news_tables.items():\n",
    "    data = news_tables[ticker]\n",
    "    rows = data.findAll('tr')\n",
    "\n",
    "    # get all the titles and their timestamp\n",
    "    for index, row in enumerate(rows):\n",
    "        title = row.a.text\n",
    "        date_data = row.td.text.strip().split(' ')\n",
    "\n",
    "        if len(date_data) == 2: # if there is a date and time\n",
    "            date = date_data[0]\n",
    "            time = date_data[1]\n",
    "\n",
    "        else: # if there is just a time\n",
    "            time = date_data[0]\n",
    "            # use the previous date as the date\n",
    "\n",
    "        # get the date for today\n",
    "        if date=='Today':\n",
    "            date = dt.today().strftime('%b-%d-%y')\n",
    "\n",
    "        parsed_data.append([ticker, date, time, title])\n",
    "print(parsed_data[200])\n"
   ]
  },
  {
   "cell_type": "markdown",
   "metadata": {},
   "source": [
    "ntlk vader will be used for sentiment analysis"
   ]
  },
  {
   "cell_type": "code",
   "execution_count": 103,
   "metadata": {},
   "outputs": [],
   "source": [
    "from nltk.sentiment.vader import SentimentIntensityAnalyzer\n",
    "import pandas as pd\n",
    "import matplotlib.pyplot as plt\n",
    "vader = SentimentIntensityAnalyzer()"
   ]
  },
  {
   "cell_type": "code",
   "execution_count": 104,
   "metadata": {},
   "outputs": [
    {
     "data": {
      "text/html": [
       "<div>\n",
       "<style scoped>\n",
       "    .dataframe tbody tr th:only-of-type {\n",
       "        vertical-align: middle;\n",
       "    }\n",
       "\n",
       "    .dataframe tbody tr th {\n",
       "        vertical-align: top;\n",
       "    }\n",
       "\n",
       "    .dataframe thead th {\n",
       "        text-align: right;\n",
       "    }\n",
       "</style>\n",
       "<table border=\"1\" class=\"dataframe\">\n",
       "  <thead>\n",
       "    <tr style=\"text-align: right;\">\n",
       "      <th></th>\n",
       "      <th>ticker</th>\n",
       "      <th>date</th>\n",
       "      <th>time</th>\n",
       "      <th>title</th>\n",
       "    </tr>\n",
       "  </thead>\n",
       "  <tbody>\n",
       "    <tr>\n",
       "      <th>0</th>\n",
       "      <td>AMZN</td>\n",
       "      <td>Sep-26-23</td>\n",
       "      <td>01:05AM</td>\n",
       "      <td>China's e-commerce discount race to the bottom...</td>\n",
       "    </tr>\n",
       "    <tr>\n",
       "      <th>1</th>\n",
       "      <td>AMZN</td>\n",
       "      <td>Sep-26-23</td>\n",
       "      <td>01:00AM</td>\n",
       "      <td>FOCUS-China's e-commerce discount race to the ...</td>\n",
       "    </tr>\n",
       "    <tr>\n",
       "      <th>2</th>\n",
       "      <td>AMZN</td>\n",
       "      <td>Sep-25-23</td>\n",
       "      <td>07:28PM</td>\n",
       "      <td>What is Anthropic? The buzzy AI startup just g...</td>\n",
       "    </tr>\n",
       "    <tr>\n",
       "      <th>3</th>\n",
       "      <td>AMZN</td>\n",
       "      <td>Sep-25-23</td>\n",
       "      <td>06:49PM</td>\n",
       "      <td>Jeff Bezoss space company Blue Origin picks Am...</td>\n",
       "    </tr>\n",
       "    <tr>\n",
       "      <th>4</th>\n",
       "      <td>AMZN</td>\n",
       "      <td>Sep-25-23</td>\n",
       "      <td>06:34PM</td>\n",
       "      <td>12 Best Low Cost ETFs</td>\n",
       "    </tr>\n",
       "  </tbody>\n",
       "</table>\n",
       "</div>"
      ],
      "text/plain": [
       "  ticker       date     time  \\\n",
       "0   AMZN  Sep-26-23  01:05AM   \n",
       "1   AMZN  Sep-26-23  01:00AM   \n",
       "2   AMZN  Sep-25-23  07:28PM   \n",
       "3   AMZN  Sep-25-23  06:49PM   \n",
       "4   AMZN  Sep-25-23  06:34PM   \n",
       "\n",
       "                                               title  \n",
       "0  China's e-commerce discount race to the bottom...  \n",
       "1  FOCUS-China's e-commerce discount race to the ...  \n",
       "2  What is Anthropic? The buzzy AI startup just g...  \n",
       "3  Jeff Bezoss space company Blue Origin picks Am...  \n",
       "4                              12 Best Low Cost ETFs  "
      ]
     },
     "execution_count": 104,
     "metadata": {},
     "output_type": "execute_result"
    }
   ],
   "source": [
    "# lets make this a dataframe\n",
    "df = pd.DataFrame(parsed_data, columns=['ticker', 'date', 'time', 'title'])\n",
    "df.head()"
   ]
  },
  {
   "cell_type": "code",
   "execution_count": 105,
   "metadata": {},
   "outputs": [
    {
     "name": "stdout",
     "output_type": "stream",
     "text": [
      "  ticker       date     time  \\\n",
      "0   AMZN  Sep-26-23  01:05AM   \n",
      "1   AMZN  Sep-26-23  01:00AM   \n",
      "2   AMZN  Sep-25-23  07:28PM   \n",
      "3   AMZN  Sep-25-23  06:49PM   \n",
      "4   AMZN  Sep-25-23  06:34PM   \n",
      "\n",
      "                                               title  compound  \n",
      "0  China's e-commerce discount race to the bottom...   -0.2960  \n",
      "1  FOCUS-China's e-commerce discount race to the ...   -0.2960  \n",
      "2  What is Anthropic? The buzzy AI startup just g...    0.1779  \n",
      "3  Jeff Bezoss space company Blue Origin picks Am...    0.1779  \n",
      "4                              12 Best Low Cost ETFs    0.4767  \n"
     ]
    }
   ],
   "source": [
    "\n",
    "#print(vader.polarity_scores('apple is an terrible company'))\n",
    "\n",
    "# make the new row\n",
    "f = lambda title: vader.polarity_scores(title)['compound']\n",
    "df['compound'] = df['title'].apply(f) # apply the lambda function\n",
    "\n",
    "print(df.head())"
   ]
  },
  {
   "cell_type": "code",
   "execution_count": 106,
   "metadata": {},
   "outputs": [
    {
     "name": "stderr",
     "output_type": "stream",
     "text": [
      "/var/folders/f5/9kn8mtyn7p1cdn40mw2mhtn80000gn/T/ipykernel_12310/3844680211.py:2: UserWarning: Could not infer format, so each element will be parsed individually, falling back to `dateutil`. To ensure parsing is consistent and as-expected, please specify a format.\n",
      "  df['date'] = pd.to_datetime(df.date).dt.date\n"
     ]
    }
   ],
   "source": [
    "# convert to datetime object\n",
    "df['date'] = pd.to_datetime(df.date).dt.date"
   ]
  },
  {
   "cell_type": "code",
   "execution_count": 107,
   "metadata": {},
   "outputs": [
    {
     "data": {
      "text/html": [
       "<div>\n",
       "<style scoped>\n",
       "    .dataframe tbody tr th:only-of-type {\n",
       "        vertical-align: middle;\n",
       "    }\n",
       "\n",
       "    .dataframe tbody tr th {\n",
       "        vertical-align: top;\n",
       "    }\n",
       "\n",
       "    .dataframe thead th {\n",
       "        text-align: right;\n",
       "    }\n",
       "</style>\n",
       "<table border=\"1\" class=\"dataframe\">\n",
       "  <thead>\n",
       "    <tr style=\"text-align: right;\">\n",
       "      <th>ticker</th>\n",
       "      <th>AMD</th>\n",
       "      <th>AMZN</th>\n",
       "      <th>META</th>\n",
       "    </tr>\n",
       "    <tr>\n",
       "      <th>date</th>\n",
       "      <th></th>\n",
       "      <th></th>\n",
       "      <th></th>\n",
       "    </tr>\n",
       "  </thead>\n",
       "  <tbody>\n",
       "    <tr>\n",
       "      <th>2023-08-29</th>\n",
       "      <td>0.000000</td>\n",
       "      <td>NaN</td>\n",
       "      <td>NaN</td>\n",
       "    </tr>\n",
       "    <tr>\n",
       "      <th>2023-08-30</th>\n",
       "      <td>0.212500</td>\n",
       "      <td>NaN</td>\n",
       "      <td>NaN</td>\n",
       "    </tr>\n",
       "    <tr>\n",
       "      <th>2023-08-31</th>\n",
       "      <td>0.108775</td>\n",
       "      <td>NaN</td>\n",
       "      <td>NaN</td>\n",
       "    </tr>\n",
       "    <tr>\n",
       "      <th>2023-09-01</th>\n",
       "      <td>0.425700</td>\n",
       "      <td>NaN</td>\n",
       "      <td>NaN</td>\n",
       "    </tr>\n",
       "    <tr>\n",
       "      <th>2023-09-02</th>\n",
       "      <td>0.190900</td>\n",
       "      <td>NaN</td>\n",
       "      <td>NaN</td>\n",
       "    </tr>\n",
       "    <tr>\n",
       "      <th>2023-09-03</th>\n",
       "      <td>0.220200</td>\n",
       "      <td>NaN</td>\n",
       "      <td>NaN</td>\n",
       "    </tr>\n",
       "    <tr>\n",
       "      <th>2023-09-04</th>\n",
       "      <td>0.241060</td>\n",
       "      <td>NaN</td>\n",
       "      <td>NaN</td>\n",
       "    </tr>\n",
       "    <tr>\n",
       "      <th>2023-09-05</th>\n",
       "      <td>0.360400</td>\n",
       "      <td>NaN</td>\n",
       "      <td>NaN</td>\n",
       "    </tr>\n",
       "    <tr>\n",
       "      <th>2023-09-06</th>\n",
       "      <td>-0.067433</td>\n",
       "      <td>NaN</td>\n",
       "      <td>NaN</td>\n",
       "    </tr>\n",
       "    <tr>\n",
       "      <th>2023-09-07</th>\n",
       "      <td>0.286617</td>\n",
       "      <td>NaN</td>\n",
       "      <td>NaN</td>\n",
       "    </tr>\n",
       "    <tr>\n",
       "      <th>2023-09-08</th>\n",
       "      <td>0.321350</td>\n",
       "      <td>NaN</td>\n",
       "      <td>NaN</td>\n",
       "    </tr>\n",
       "    <tr>\n",
       "      <th>2023-09-09</th>\n",
       "      <td>0.351300</td>\n",
       "      <td>NaN</td>\n",
       "      <td>NaN</td>\n",
       "    </tr>\n",
       "    <tr>\n",
       "      <th>2023-09-10</th>\n",
       "      <td>0.379000</td>\n",
       "      <td>NaN</td>\n",
       "      <td>NaN</td>\n",
       "    </tr>\n",
       "    <tr>\n",
       "      <th>2023-09-11</th>\n",
       "      <td>0.317650</td>\n",
       "      <td>NaN</td>\n",
       "      <td>NaN</td>\n",
       "    </tr>\n",
       "    <tr>\n",
       "      <th>2023-09-12</th>\n",
       "      <td>0.250000</td>\n",
       "      <td>NaN</td>\n",
       "      <td>-0.095450</td>\n",
       "    </tr>\n",
       "    <tr>\n",
       "      <th>2023-09-13</th>\n",
       "      <td>0.401900</td>\n",
       "      <td>NaN</td>\n",
       "      <td>0.254467</td>\n",
       "    </tr>\n",
       "    <tr>\n",
       "      <th>2023-09-14</th>\n",
       "      <td>0.194300</td>\n",
       "      <td>NaN</td>\n",
       "      <td>0.110100</td>\n",
       "    </tr>\n",
       "    <tr>\n",
       "      <th>2023-09-15</th>\n",
       "      <td>0.166100</td>\n",
       "      <td>NaN</td>\n",
       "      <td>0.213550</td>\n",
       "    </tr>\n",
       "    <tr>\n",
       "      <th>2023-09-16</th>\n",
       "      <td>0.395300</td>\n",
       "      <td>NaN</td>\n",
       "      <td>0.000000</td>\n",
       "    </tr>\n",
       "    <tr>\n",
       "      <th>2023-09-17</th>\n",
       "      <td>0.709600</td>\n",
       "      <td>NaN</td>\n",
       "      <td>NaN</td>\n",
       "    </tr>\n",
       "    <tr>\n",
       "      <th>2023-09-18</th>\n",
       "      <td>0.242720</td>\n",
       "      <td>NaN</td>\n",
       "      <td>0.233271</td>\n",
       "    </tr>\n",
       "    <tr>\n",
       "      <th>2023-09-19</th>\n",
       "      <td>0.240600</td>\n",
       "      <td>NaN</td>\n",
       "      <td>0.191513</td>\n",
       "    </tr>\n",
       "    <tr>\n",
       "      <th>2023-09-20</th>\n",
       "      <td>0.132422</td>\n",
       "      <td>NaN</td>\n",
       "      <td>0.245633</td>\n",
       "    </tr>\n",
       "    <tr>\n",
       "      <th>2023-09-21</th>\n",
       "      <td>0.299700</td>\n",
       "      <td>NaN</td>\n",
       "      <td>0.017550</td>\n",
       "    </tr>\n",
       "    <tr>\n",
       "      <th>2023-09-22</th>\n",
       "      <td>0.233925</td>\n",
       "      <td>0.230668</td>\n",
       "      <td>0.060962</td>\n",
       "    </tr>\n",
       "    <tr>\n",
       "      <th>2023-09-23</th>\n",
       "      <td>0.401900</td>\n",
       "      <td>0.376311</td>\n",
       "      <td>0.058150</td>\n",
       "    </tr>\n",
       "    <tr>\n",
       "      <th>2023-09-24</th>\n",
       "      <td>0.493700</td>\n",
       "      <td>0.395323</td>\n",
       "      <td>0.231500</td>\n",
       "    </tr>\n",
       "    <tr>\n",
       "      <th>2023-09-25</th>\n",
       "      <td>0.177675</td>\n",
       "      <td>0.183692</td>\n",
       "      <td>0.259150</td>\n",
       "    </tr>\n",
       "    <tr>\n",
       "      <th>2023-09-26</th>\n",
       "      <td>NaN</td>\n",
       "      <td>-0.296000</td>\n",
       "      <td>NaN</td>\n",
       "    </tr>\n",
       "  </tbody>\n",
       "</table>\n",
       "</div>"
      ],
      "text/plain": [
       "ticker           AMD      AMZN      META\n",
       "date                                    \n",
       "2023-08-29  0.000000       NaN       NaN\n",
       "2023-08-30  0.212500       NaN       NaN\n",
       "2023-08-31  0.108775       NaN       NaN\n",
       "2023-09-01  0.425700       NaN       NaN\n",
       "2023-09-02  0.190900       NaN       NaN\n",
       "2023-09-03  0.220200       NaN       NaN\n",
       "2023-09-04  0.241060       NaN       NaN\n",
       "2023-09-05  0.360400       NaN       NaN\n",
       "2023-09-06 -0.067433       NaN       NaN\n",
       "2023-09-07  0.286617       NaN       NaN\n",
       "2023-09-08  0.321350       NaN       NaN\n",
       "2023-09-09  0.351300       NaN       NaN\n",
       "2023-09-10  0.379000       NaN       NaN\n",
       "2023-09-11  0.317650       NaN       NaN\n",
       "2023-09-12  0.250000       NaN -0.095450\n",
       "2023-09-13  0.401900       NaN  0.254467\n",
       "2023-09-14  0.194300       NaN  0.110100\n",
       "2023-09-15  0.166100       NaN  0.213550\n",
       "2023-09-16  0.395300       NaN  0.000000\n",
       "2023-09-17  0.709600       NaN       NaN\n",
       "2023-09-18  0.242720       NaN  0.233271\n",
       "2023-09-19  0.240600       NaN  0.191513\n",
       "2023-09-20  0.132422       NaN  0.245633\n",
       "2023-09-21  0.299700       NaN  0.017550\n",
       "2023-09-22  0.233925  0.230668  0.060962\n",
       "2023-09-23  0.401900  0.376311  0.058150\n",
       "2023-09-24  0.493700  0.395323  0.231500\n",
       "2023-09-25  0.177675  0.183692  0.259150\n",
       "2023-09-26       NaN -0.296000       NaN"
      ]
     },
     "execution_count": 107,
     "metadata": {},
     "output_type": "execute_result"
    },
    {
     "data": {
      "text/plain": [
       "<Figure size 1000x800 with 0 Axes>"
      ]
     },
     "metadata": {},
     "output_type": "display_data"
    }
   ],
   "source": [
    "plt.figure(figsize=(10,8))\n",
    "\n",
    "mean_df = df.groupby(['ticker', 'date']).agg(avg = ('compound','mean')) # get the mean for each day\n",
    "mean_df = mean_df.unstack() # turn the date into the top\n",
    "mean_df = mean_df.xs('avg', axis='columns').transpose()\n",
    "mean_df"
   ]
  },
  {
   "cell_type": "code",
   "execution_count": 108,
   "metadata": {},
   "outputs": [
    {
     "data": {
      "text/plain": [
       "<Axes: xlabel='date'>"
      ]
     },
     "execution_count": 108,
     "metadata": {},
     "output_type": "execute_result"
    },
    {
     "data": {
      "image/png": "[encoded data removed]",
      "text/plain": [
       "<Figure size 640x480 with 1 Axes>"
      ]
     },
     "metadata": {},
     "output_type": "display_data"
    }
   ],
   "source": [
    "mean_df.plot(kind='bar')"
   ]
  },
  {
   "cell_type": "code",
   "execution_count": 68,
   "metadata": {},
   "outputs": [
    {
     "data": {
      "text/html": [
       "<div>\n",
       "<style scoped>\n",
       "    .dataframe tbody tr th:only-of-type {\n",
       "        vertical-align: middle;\n",
       "    }\n",
       "\n",
       "    .dataframe tbody tr th {\n",
       "        vertical-align: top;\n",
       "    }\n",
       "\n",
       "    .dataframe thead th {\n",
       "        text-align: right;\n",
       "    }\n",
       "</style>\n",
       "<table border=\"1\" class=\"dataframe\">\n",
       "  <thead>\n",
       "    <tr style=\"text-align: right;\">\n",
       "      <th></th>\n",
       "      <th>ticker</th>\n",
       "      <th>date</th>\n",
       "      <th>time</th>\n",
       "      <th>title</th>\n",
       "      <th>compound</th>\n",
       "    </tr>\n",
       "  </thead>\n",
       "  <tbody>\n",
       "    <tr>\n",
       "      <th>0</th>\n",
       "      <td>AMZN</td>\n",
       "      <td>2023-09-26</td>\n",
       "      <td>01:05AM</td>\n",
       "      <td>China's e-commerce discount race to the bottom...</td>\n",
       "      <td>-0.2960</td>\n",
       "    </tr>\n",
       "    <tr>\n",
       "      <th>1</th>\n",
       "      <td>AMZN</td>\n",
       "      <td>2023-09-26</td>\n",
       "      <td>01:00AM</td>\n",
       "      <td>FOCUS-China's e-commerce discount race to the ...</td>\n",
       "      <td>-0.2960</td>\n",
       "    </tr>\n",
       "    <tr>\n",
       "      <th>2</th>\n",
       "      <td>AMZN</td>\n",
       "      <td>2023-09-25</td>\n",
       "      <td>07:28PM</td>\n",
       "      <td>What is Anthropic? The buzzy AI startup just g...</td>\n",
       "      <td>0.1779</td>\n",
       "    </tr>\n",
       "    <tr>\n",
       "      <th>3</th>\n",
       "      <td>AMZN</td>\n",
       "      <td>2023-09-25</td>\n",
       "      <td>06:49PM</td>\n",
       "      <td>Jeff Bezoss space company Blue Origin picks Am...</td>\n",
       "      <td>0.1779</td>\n",
       "    </tr>\n",
       "    <tr>\n",
       "      <th>4</th>\n",
       "      <td>AMZN</td>\n",
       "      <td>2023-09-25</td>\n",
       "      <td>06:34PM</td>\n",
       "      <td>12 Best Low Cost ETFs</td>\n",
       "      <td>0.4767</td>\n",
       "    </tr>\n",
       "    <tr>\n",
       "      <th>...</th>\n",
       "      <td>...</td>\n",
       "      <td>...</td>\n",
       "      <td>...</td>\n",
       "      <td>...</td>\n",
       "      <td>...</td>\n",
       "    </tr>\n",
       "    <tr>\n",
       "      <th>295</th>\n",
       "      <td>META</td>\n",
       "      <td>2023-09-22</td>\n",
       "      <td>08:22AM</td>\n",
       "      <td>Is Amazon Stock a Buy Ahead of Its \"Prime Big ...</td>\n",
       "      <td>0.1779</td>\n",
       "    </tr>\n",
       "    <tr>\n",
       "      <th>296</th>\n",
       "      <td>META</td>\n",
       "      <td>2023-09-22</td>\n",
       "      <td>07:28AM</td>\n",
       "      <td>Amazon Is Latest to Add Advertising to Streami...</td>\n",
       "      <td>0.1779</td>\n",
       "    </tr>\n",
       "    <tr>\n",
       "      <th>297</th>\n",
       "      <td>META</td>\n",
       "      <td>2023-09-22</td>\n",
       "      <td>06:50AM</td>\n",
       "      <td>Amazon to Put Ads in Prime Video Shows and Movies</td>\n",
       "      <td>0.1779</td>\n",
       "    </tr>\n",
       "    <tr>\n",
       "      <th>298</th>\n",
       "      <td>META</td>\n",
       "      <td>2023-09-22</td>\n",
       "      <td>06:30AM</td>\n",
       "      <td>3 Good Reasons to Buy Your Pet Supplies From C...</td>\n",
       "      <td>0.4404</td>\n",
       "    </tr>\n",
       "    <tr>\n",
       "      <th>299</th>\n",
       "      <td>META</td>\n",
       "      <td>2023-09-22</td>\n",
       "      <td>06:30AM</td>\n",
       "      <td>3 Artificial Intelligence (AI) Stocks With Mor...</td>\n",
       "      <td>0.4767</td>\n",
       "    </tr>\n",
       "  </tbody>\n",
       "</table>\n",
       "<p>300 rows × 5 columns</p>\n",
       "</div>"
      ],
      "text/plain": [
       "    ticker        date     time  \\\n",
       "0     AMZN  2023-09-26  01:05AM   \n",
       "1     AMZN  2023-09-26  01:00AM   \n",
       "2     AMZN  2023-09-25  07:28PM   \n",
       "3     AMZN  2023-09-25  06:49PM   \n",
       "4     AMZN  2023-09-25  06:34PM   \n",
       "..     ...         ...      ...   \n",
       "295   META  2023-09-22  08:22AM   \n",
       "296   META  2023-09-22  07:28AM   \n",
       "297   META  2023-09-22  06:50AM   \n",
       "298   META  2023-09-22  06:30AM   \n",
       "299   META  2023-09-22  06:30AM   \n",
       "\n",
       "                                                 title  compound  \n",
       "0    China's e-commerce discount race to the bottom...   -0.2960  \n",
       "1    FOCUS-China's e-commerce discount race to the ...   -0.2960  \n",
       "2    What is Anthropic? The buzzy AI startup just g...    0.1779  \n",
       "3    Jeff Bezoss space company Blue Origin picks Am...    0.1779  \n",
       "4                                12 Best Low Cost ETFs    0.4767  \n",
       "..                                                 ...       ...  \n",
       "295  Is Amazon Stock a Buy Ahead of Its \"Prime Big ...    0.1779  \n",
       "296  Amazon Is Latest to Add Advertising to Streami...    0.1779  \n",
       "297  Amazon to Put Ads in Prime Video Shows and Movies    0.1779  \n",
       "298  3 Good Reasons to Buy Your Pet Supplies From C...    0.4404  \n",
       "299  3 Artificial Intelligence (AI) Stocks With Mor...    0.4767  \n",
       "\n",
       "[300 rows x 5 columns]"
      ]
     },
     "execution_count": 68,
     "metadata": {},
     "output_type": "execute_result"
    }
   ],
   "source": [
    "df"
   ]
  },
  {
   "cell_type": "code",
   "execution_count": 78,
   "metadata": {},
   "outputs": [
    {
     "data": {
      "text/html": [
       "<div>\n",
       "<style scoped>\n",
       "    .dataframe tbody tr th:only-of-type {\n",
       "        vertical-align: middle;\n",
       "    }\n",
       "\n",
       "    .dataframe tbody tr th {\n",
       "        vertical-align: top;\n",
       "    }\n",
       "\n",
       "    .dataframe thead th {\n",
       "        text-align: right;\n",
       "    }\n",
       "</style>\n",
       "<table border=\"1\" class=\"dataframe\">\n",
       "  <thead>\n",
       "    <tr style=\"text-align: right;\">\n",
       "      <th></th>\n",
       "      <th></th>\n",
       "      <th>avg</th>\n",
       "    </tr>\n",
       "    <tr>\n",
       "      <th>ticker</th>\n",
       "      <th>date</th>\n",
       "      <th></th>\n",
       "    </tr>\n",
       "  </thead>\n",
       "  <tbody>\n",
       "    <tr>\n",
       "      <th rowspan=\"5\" valign=\"top\">AMD</th>\n",
       "      <th>2023-09-22</th>\n",
       "      <td>0.230668</td>\n",
       "    </tr>\n",
       "    <tr>\n",
       "      <th>2023-09-23</th>\n",
       "      <td>0.376311</td>\n",
       "    </tr>\n",
       "    <tr>\n",
       "      <th>2023-09-24</th>\n",
       "      <td>0.395323</td>\n",
       "    </tr>\n",
       "    <tr>\n",
       "      <th>2023-09-25</th>\n",
       "      <td>0.183692</td>\n",
       "    </tr>\n",
       "    <tr>\n",
       "      <th>2023-09-26</th>\n",
       "      <td>-0.296000</td>\n",
       "    </tr>\n",
       "  </tbody>\n",
       "</table>\n",
       "</div>"
      ],
      "text/plain": [
       "                        avg\n",
       "ticker date                \n",
       "AMD    2023-09-22  0.230668\n",
       "       2023-09-23  0.376311\n",
       "       2023-09-24  0.395323\n",
       "       2023-09-25  0.183692\n",
       "       2023-09-26 -0.296000"
      ]
     },
     "execution_count": 78,
     "metadata": {},
     "output_type": "execute_result"
    }
   ],
   "source": [
    "mean_df = df.groupby(['ticker', 'date']).agg(avg =('compound','mean'))\n",
    "\n",
    "mean_df.head()"
   ]
  },
  {
   "cell_type": "code",
   "execution_count": 89,
   "metadata": {},
   "outputs": [
    {
     "data": {
      "text/plain": [
       "(0    -0.2960\n",
       " 1    -0.2960\n",
       " 2     0.1779\n",
       " 3     0.1779\n",
       " 4     0.4767\n",
       "        ...  \n",
       " 95    0.1779\n",
       " 96    0.1779\n",
       " 97    0.1779\n",
       " 98    0.4404\n",
       " 99    0.4767\n",
       " Name: compound, Length: 100, dtype: float64,\n",
       " 200   -0.2960\n",
       " 201   -0.2960\n",
       " 202    0.1779\n",
       " 203    0.1779\n",
       " 204    0.4767\n",
       "         ...  \n",
       " 295    0.1779\n",
       " 296    0.1779\n",
       " 297    0.1779\n",
       " 298    0.4404\n",
       " 299    0.4767\n",
       " Name: compound, Length: 100, dtype: float64)"
      ]
     },
     "execution_count": 89,
     "metadata": {},
     "output_type": "execute_result"
    }
   ],
   "source": [
    "df[df['ticker'] =='AMZN']['compound'], df[df['ticker'] =='META']['compound']"
   ]
  },
  {
   "cell_type": "code",
   "execution_count": 98,
   "metadata": {},
   "outputs": [
    {
     "data": {
      "text/plain": [
       "(\"FOCUS-China's e-commerce discount race to the bottom puts incumbents under pressure\",\n",
       " \"FOCUS-China's e-commerce discount race to the bottom puts incumbents under pressure\")"
      ]
     },
     "execution_count": 98,
     "metadata": {},
     "output_type": "execute_result"
    }
   ],
   "source": [
    "df[df['ticker'] =='AMZN']['title'][1], df[df['ticker'] =='META']['title'][201]"
   ]
  },
  {
   "cell_type": "code",
   "execution_count": 1,
   "metadata": {},
   "outputs": [],
   "source": [
    "from news_scraping import news_scraper"
   ]
  },
  {
   "cell_type": "code",
   "execution_count": 4,
   "metadata": {},
   "outputs": [
    {
     "name": "stderr",
     "output_type": "stream",
     "text": [
      "/Users/jasperchong/PycharmProjects/Statistical Arbitrage/Stock news sentiment/news_scraping.py:44: GuessedAtParserWarning: No parser was explicitly specified, so I'm using the best available HTML parser for this system (\"html5lib\"). This usually isn't a problem, but if you run this code on another system, or in a different virtual environment, it may use a different parser and behave differently.\n",
      "\n",
      "The code that caused this warning is on line 44 of the file /Users/jasperchong/PycharmProjects/Statistical Arbitrage/Stock news sentiment/news_scraping.py. To get rid of this warning, pass the additional argument 'features=\"html5lib\"' to the BeautifulSoup constructor.\n",
      "\n",
      "  html = BeautifulSoup(response, 'html')\n",
      "/Users/jasperchong/PycharmProjects/Statistical Arbitrage/Stock news sentiment/news_scraping.py:83: UserWarning: Could not infer format, so each element will be parsed individually, falling back to `dateutil`. To ensure parsing is consistent and as-expected, please specify a format.\n",
      "  df['date'] = pd.to_datetime(df.date).dt.date\n",
      "/Users/jasperchong/PycharmProjects/Statistical Arbitrage/Stock news sentiment/news_scraping.py:44: GuessedAtParserWarning: No parser was explicitly specified, so I'm using the best available HTML parser for this system (\"html5lib\"). This usually isn't a problem, but if you run this code on another system, or in a different virtual environment, it may use a different parser and behave differently.\n",
      "\n",
      "The code that caused this warning is on line 44 of the file /Users/jasperchong/PycharmProjects/Statistical Arbitrage/Stock news sentiment/news_scraping.py. To get rid of this warning, pass the additional argument 'features=\"html5lib\"' to the BeautifulSoup constructor.\n",
      "\n",
      "  html = BeautifulSoup(response, 'html')\n",
      "/Users/jasperchong/PycharmProjects/Statistical Arbitrage/Stock news sentiment/news_scraping.py:83: UserWarning: Could not infer format, so each element will be parsed individually, falling back to `dateutil`. To ensure parsing is consistent and as-expected, please specify a format.\n",
      "  df['date'] = pd.to_datetime(df.date).dt.date\n"
     ]
    }
   ],
   "source": [
    "tickers1 = ['META', 'AMZN', 'AAPL', 'NFLX', 'GOOGL']\n",
    "sum_data = news_scraper(tickers1, avg_type='sum').finvis()\n",
    "mean_data = news_scraper(tickers1, avg_type='mean').finvis()"
   ]
  },
  {
   "cell_type": "code",
   "execution_count": 6,
   "metadata": {},
   "outputs": [
    {
     "data": {
      "text/plain": [
       "(<Axes: xlabel='date'>, <Axes: xlabel='date'>)"
      ]
     },
     "execution_count": 6,
     "metadata": {},
     "output_type": "execute_result"
    },
    {
     "data": {
      "image/png": "[encoded data removed]",
      "text/plain": [
       "<Figure size 640x480 with 1 Axes>"
      ]
     },
     "metadata": {},
     "output_type": "display_data"
    },
    {
     "data": {
      "image/png": "[encoded data removed]",
      "text/plain": [
       "<Figure size 640x480 with 1 Axes>"
      ]
     },
     "metadata": {},
     "output_type": "display_data"
    }
   ],
   "source": [
    "sum_data.plot(kind='bar'), mean_data.plot(kind='bar')"
   ]
  },
  {
   "cell_type": "code",
   "execution_count": 8,
   "metadata": {},
   "outputs": [
    {
     "data": {
      "text/plain": [
       "date\n",
       "2023-09-11         NaN\n",
       "2023-09-12         NaN\n",
       "2023-09-13         NaN\n",
       "2023-09-14         NaN\n",
       "2023-09-15         NaN\n",
       "2023-09-16         NaN\n",
       "2023-09-17         NaN\n",
       "2023-09-18         NaN\n",
       "2023-09-19         NaN\n",
       "2023-09-20    0.122708\n",
       "2023-09-21    0.087030\n",
       "2023-09-22    0.088215\n",
       "2023-09-23    0.079922\n",
       "2023-09-24    0.168785\n",
       "2023-09-25   -0.069150\n",
       "2023-09-26         NaN\n",
       "Name: AAPL, dtype: float64"
      ]
     },
     "execution_count": 8,
     "metadata": {},
     "output_type": "execute_result"
    }
   ],
   "source": [
    "mean_data['AAPL']"
   ]
  },
  {
   "cell_type": "code",
   "execution_count": null,
   "metadata": {},
   "outputs": [],
   "source": []
  }
 ],
 "metadata": {
  "kernelspec": {
   "display_name": "base",
   "language": "python",
   "name": "python3"
  },
  "language_info": {
   "codemirror_mode": {
    "name": "ipython",
    "version": 3
   },
   "file_extension": ".py",
   "mimetype": "text/x-python",
   "name": "python",
   "nbconvert_exporter": "python",
   "pygments_lexer": "ipython3",
   "version": "3.9.13"
  },
  "orig_nbformat": 4
 },
 "nbformat": 4,
 "nbformat_minor": 2
}
