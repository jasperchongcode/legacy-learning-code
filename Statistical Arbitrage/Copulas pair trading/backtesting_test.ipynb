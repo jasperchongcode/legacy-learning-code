{
 "cells": [
  {
   "cell_type": "code",
   "execution_count": 12,
   "metadata": {},
   "outputs": [],
   "source": [
    "import backtrader as bt\n",
    "from pandas_datareader import data as pdr\n",
    "import yfinance as yfin\n",
    "yfin.pdr_override()\n",
    "import datetime\n",
    "\n",
    "import numpy as np\n",
    "import matplotlib.pyplot as plt"
   ]
  },
  {
   "cell_type": "code",
   "execution_count": 11,
   "metadata": {},
   "outputs": [
    {
     "name": "stdout",
     "output_type": "stream",
     "text": [
      "[*********************100%%**********************]  1 of 1 completed\n"
     ]
    }
   ],
   "source": [
    "stocks = ['AMZN']\n",
    "start = '2020-01-01'\n",
    "end = '2023-01-01'\n",
    "df = pdr.get_data_yahoo(stocks, start, end)"
   ]
  },
  {
   "cell_type": "code",
   "execution_count": 14,
   "metadata": {},
   "outputs": [
    {
     "ename": "AttributeError",
     "evalue": "'Series' object has no attribute 'setenvironment'",
     "output_type": "error",
     "traceback": [
      "\u001b[0;31m---------------------------------------------------------------------------\u001b[0m",
      "\u001b[0;31mAttributeError\u001b[0m                            Traceback (most recent call last)",
      "\u001b[1;32m/Users/jasperchong/PycharmProjects/Statistical Arbitrage/Copulas pair trading/backtesting_test.ipynb Cell 3\u001b[0m line \u001b[0;36m<cell line: 12>\u001b[0;34m()\u001b[0m\n\u001b[1;32m      <a href='vscode-notebook-cell:/Users/jasperchong/PycharmProjects/Statistical%20Arbitrage/Copulas%20pair%20trading/backtesting_test.ipynb#W1sZmlsZQ%3D%3D?line=8'>9</a>\u001b[0m data \u001b[39m=\u001b[39m df[\u001b[39m'\u001b[39m\u001b[39mAdj Close\u001b[39m\u001b[39m'\u001b[39m]\n\u001b[1;32m     <a href='vscode-notebook-cell:/Users/jasperchong/PycharmProjects/Statistical%20Arbitrage/Copulas%20pair%20trading/backtesting_test.ipynb#W1sZmlsZQ%3D%3D?line=10'>11</a>\u001b[0m \u001b[39m# Add the Data Feed to Cerebro\u001b[39;00m\n\u001b[0;32m---> <a href='vscode-notebook-cell:/Users/jasperchong/PycharmProjects/Statistical%20Arbitrage/Copulas%20pair%20trading/backtesting_test.ipynb#W1sZmlsZQ%3D%3D?line=11'>12</a>\u001b[0m cerebro\u001b[39m.\u001b[39;49madddata(data)\n\u001b[1;32m     <a href='vscode-notebook-cell:/Users/jasperchong/PycharmProjects/Statistical%20Arbitrage/Copulas%20pair%20trading/backtesting_test.ipynb#W1sZmlsZQ%3D%3D?line=13'>14</a>\u001b[0m \u001b[39m# Set our desired cash start\u001b[39;00m\n\u001b[1;32m     <a href='vscode-notebook-cell:/Users/jasperchong/PycharmProjects/Statistical%20Arbitrage/Copulas%20pair%20trading/backtesting_test.ipynb#W1sZmlsZQ%3D%3D?line=14'>15</a>\u001b[0m cerebro\u001b[39m.\u001b[39mbroker\u001b[39m.\u001b[39msetcash(\u001b[39m100000.0\u001b[39m)\n",
      "File \u001b[0;32m~/opt/miniconda3/lib/python3.9/site-packages/backtrader/cerebro.py:763\u001b[0m, in \u001b[0;36mCerebro.adddata\u001b[0;34m(self, data, name)\u001b[0m\n\u001b[1;32m    760\u001b[0m     data\u001b[39m.\u001b[39m_name \u001b[39m=\u001b[39m name\n\u001b[1;32m    762\u001b[0m data\u001b[39m.\u001b[39m_id \u001b[39m=\u001b[39m \u001b[39mnext\u001b[39m(\u001b[39mself\u001b[39m\u001b[39m.\u001b[39m_dataid)\n\u001b[0;32m--> 763\u001b[0m data\u001b[39m.\u001b[39;49msetenvironment(\u001b[39mself\u001b[39m)\n\u001b[1;32m    765\u001b[0m \u001b[39mself\u001b[39m\u001b[39m.\u001b[39mdatas\u001b[39m.\u001b[39mappend(data)\n\u001b[1;32m    766\u001b[0m \u001b[39mself\u001b[39m\u001b[39m.\u001b[39mdatasbyname[data\u001b[39m.\u001b[39m_name] \u001b[39m=\u001b[39m data\n",
      "File \u001b[0;32m~/opt/miniconda3/lib/python3.9/site-packages/pandas/core/generic.py:6204\u001b[0m, in \u001b[0;36mNDFrame.__getattr__\u001b[0;34m(self, name)\u001b[0m\n\u001b[1;32m   6197\u001b[0m \u001b[39mif\u001b[39;00m (\n\u001b[1;32m   6198\u001b[0m     name \u001b[39mnot\u001b[39;00m \u001b[39min\u001b[39;00m \u001b[39mself\u001b[39m\u001b[39m.\u001b[39m_internal_names_set\n\u001b[1;32m   6199\u001b[0m     \u001b[39mand\u001b[39;00m name \u001b[39mnot\u001b[39;00m \u001b[39min\u001b[39;00m \u001b[39mself\u001b[39m\u001b[39m.\u001b[39m_metadata\n\u001b[1;32m   6200\u001b[0m     \u001b[39mand\u001b[39;00m name \u001b[39mnot\u001b[39;00m \u001b[39min\u001b[39;00m \u001b[39mself\u001b[39m\u001b[39m.\u001b[39m_accessors\n\u001b[1;32m   6201\u001b[0m     \u001b[39mand\u001b[39;00m \u001b[39mself\u001b[39m\u001b[39m.\u001b[39m_info_axis\u001b[39m.\u001b[39m_can_hold_identifiers_and_holds_name(name)\n\u001b[1;32m   6202\u001b[0m ):\n\u001b[1;32m   6203\u001b[0m     \u001b[39mreturn\u001b[39;00m \u001b[39mself\u001b[39m[name]\n\u001b[0;32m-> 6204\u001b[0m \u001b[39mreturn\u001b[39;00m \u001b[39mobject\u001b[39;49m\u001b[39m.\u001b[39;49m\u001b[39m__getattribute__\u001b[39;49m(\u001b[39mself\u001b[39;49m, name)\n",
      "\u001b[0;31mAttributeError\u001b[0m: 'Series' object has no attribute 'setenvironment'"
     ]
    }
   ],
   "source": [
    " # Create a cerebro entity\n",
    "cerebro = bt.Cerebro()\n",
    "\n",
    "# Datas are in a subfolder of the samples. Need to find where the script is\n",
    "# because it could have been called from anywhere\n",
    "\n",
    "\n",
    "# Create a Data Feed\n",
    "data = df['Adj Close']\n",
    "\n",
    "# Add the Data Feed to Cerebro\n",
    "cerebro.adddata(data)\n",
    "\n",
    "# Set our desired cash start\n",
    "cerebro.broker.setcash(100000.0)\n",
    "\n",
    "# Print out the starting conditions\n",
    "print('Starting Portfolio Value: %.2f' % cerebro.broker.getvalue())\n",
    "\n",
    "# Run over everything\n",
    "cerebro.run()\n",
    "\n",
    "# Print out the final result\n",
    "print('Final Portfolio Value: %.2f' % cerebro.broker.getvalue())"
   ]
  },
  {
   "cell_type": "code",
   "execution_count": null,
   "metadata": {},
   "outputs": [],
   "source": []
  }
 ],
 "metadata": {
  "kernelspec": {
   "display_name": "base",
   "language": "python",
   "name": "python3"
  },
  "language_info": {
   "codemirror_mode": {
    "name": "ipython",
    "version": 3
   },
   "file_extension": ".py",
   "mimetype": "text/x-python",
   "name": "python",
   "nbconvert_exporter": "python",
   "pygments_lexer": "ipython3",
   "version": "3.9.13"
  },
  "orig_nbformat": 4
 },
 "nbformat": 4,
 "nbformat_minor": 2
}
