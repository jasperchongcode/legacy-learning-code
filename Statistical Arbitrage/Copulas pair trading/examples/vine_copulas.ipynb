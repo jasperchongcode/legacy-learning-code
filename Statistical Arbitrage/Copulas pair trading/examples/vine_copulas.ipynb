{
 "cells": [
  {
   "cell_type": "markdown",
   "metadata": {},
   "source": [
    "Import the library"
   ]
  },
  {
   "cell_type": "code",
   "execution_count": 1,
   "metadata": {},
   "outputs": [],
   "source": [
    "import pyvinecopulib as pv\n",
    "import numpy as np"
   ]
  },
  {
   "cell_type": "code",
   "execution_count": 2,
   "metadata": {},
   "outputs": [
    {
     "name": "stdout",
     "output_type": "stream",
     "text": [
      "<pyvinecopulib.Vinecop>\n",
      "** Tree: 0\n",
      "3,1 <-> BB1 90°, parameters = 3\n",
      "2\n",
      "2,1 <-> BB1 90°, parameters = 3\n",
      "2\n",
      "** Tree: 1\n",
      "3,2 | 1 <-> BB1 90°, parameters = 3\n",
      "2\n",
      "\n"
     ]
    }
   ],
   "source": [
    "# Specify pair-copulas\n",
    "bicop = pv.Bicop(pv.BicopFamily.bb1, 90, [3, 2])\n",
    "pcs = [[bicop, bicop], [bicop]]\n",
    "\n",
    "# Specify R-vine matrix\n",
    "mat = np.array([[1, 1, 1], \n",
    "                [2, 2, 0], \n",
    "                [3, 0, 0]])\n",
    "\n",
    "# Set-up a vine copula\n",
    "cop = pv.Vinecop(mat, pcs)\n",
    "print(cop)"
   ]
  },
  {
   "cell_type": "markdown",
   "metadata": {
    "scrolled": true
   },
   "source": [
    "Showcase some methods"
   ]
  },
  {
   "cell_type": "code",
   "execution_count": 3,
   "metadata": {},
   "outputs": [
    {
     "data": {
      "text/plain": [
       "[array([ 44.67583001,  54.34974545,  29.84989695,  19.18643731,\n",
       "        199.72159236, 944.18332674,  21.78049474,  43.78532554,\n",
       "          9.10911159,  13.39339764]),\n",
       " array([[0.1638618 , 0.8170847 , 0.12668051],\n",
       "        [0.90118677, 0.11345478, 0.2222099 ],\n",
       "        [0.62193432, 0.12286857, 0.39604429],\n",
       "        [0.6902412 , 0.78638305, 0.37455509],\n",
       "        [0.13685699, 0.10872534, 0.2777274 ],\n",
       "        [0.03952828, 0.35645124, 0.06597532],\n",
       "        [0.48023317, 0.77472657, 0.72886036],\n",
       "        [0.19787956, 0.90877192, 0.60171   ],\n",
       "        [0.85523898, 0.76413881, 0.04961411],\n",
       "        [0.17627362, 0.77807695, 0.03875948]]),\n",
       " array([[0.1638618 , 0.8728502 , 0.79397093],\n",
       "        [0.90118677, 0.03148971, 0.30865931],\n",
       "        [0.62193432, 0.28213894, 0.46366853],\n",
       "        [0.6902412 , 0.28590505, 0.30879851],\n",
       "        [0.13685699, 0.88594611, 0.84611164],\n",
       "        [0.03952828, 0.97430917, 0.95100319],\n",
       "        [0.48023317, 0.53494551, 0.47865733],\n",
       "        [0.19787956, 0.84458738, 0.75111263],\n",
       "        [0.85523898, 0.10561078, 0.19326385],\n",
       "        [0.17627362, 0.8605475 , 0.77931921]]),\n",
       " 37.9568529234207,\n",
       " -63.913705846841395,\n",
       " -62.09819528887712]"
      ]
     },
     "execution_count": 3,
     "metadata": {},
     "output_type": "execute_result"
    }
   ],
   "source": [
    "u = cop.simulate(n=10, seeds=[1, 2, 3])\n",
    "fcts = [cop.pdf, cop.rosenblatt, cop.inverse_rosenblatt,\n",
    "        cop.loglik, cop.aic, cop.bic]\n",
    "[f(u) for f in fcts]"
   ]
  },
  {
   "cell_type": "markdown",
   "metadata": {},
   "source": [
    "Create a vine copula model"
   ]
  },
  {
   "cell_type": "markdown",
   "metadata": {},
   "source": [
    "Different ways to fit a copula (when the families and structure are known)..."
   ]
  },
  {
   "cell_type": "code",
   "execution_count": 4,
   "metadata": {},
   "outputs": [
    {
     "name": "stdout",
     "output_type": "stream",
     "text": [
      "<pyvinecopulib.FitControlsVinecop>\n",
      "Family set: BB1\n",
      "Parametric method: mle\n",
      "Nonparametric method: quadratic\n",
      "Nonparametric multiplier: 1\n",
      "Weights: no\n",
      "Selection criterion: bic\n",
      "Preselect families: yes\n",
      "mBIC prior probability: 0.9\n",
      "Truncation level: none (default)\n",
      "Tree criterion: tau\n",
      "Threshold: 0\n",
      "Select truncation level: no\n",
      "Select threshold: no\n",
      "Show trace: no\n",
      "Number of threads: 1\n",
      "\n",
      "<pyvinecopulib.Vinecop>\n",
      "** Tree: 0\n",
      "3,1 <-> BB1 90°, parameters = 2.92727\n",
      "2.02245\n",
      "2,1 <-> BB1 90°, parameters = 2.98212\n",
      "2.04269\n",
      "** Tree: 1\n",
      "3,2 | 1 <-> BB1 90°, parameters = 2.72952\n",
      "2.04218\n",
      "\n",
      "<pyvinecopulib.Vinecop>\n",
      "** Tree: 0\n",
      "3,1 <-> BB1 90°, parameters = 2.92727\n",
      "2.02245\n",
      "2,1 <-> BB1 90°, parameters = 2.98212\n",
      "2.04269\n",
      "** Tree: 1\n",
      "3,2 | 1 <-> BB1 90°, parameters = 2.72952\n",
      "2.04218\n",
      "\n"
     ]
    }
   ],
   "source": [
    "u = cop.simulate(n=1000, seeds=[1, 2, 3])\n",
    "\n",
    "# Define first an object to control the fits:\n",
    "#    - pv.FitControlsVinecop objects store the controls\n",
    "#    - here, we only restrict the parametric family\n",
    "#    - see help(pv.FitControlsVinecop) for more details\n",
    "controls = pv.FitControlsVinecop(family_set=[pv.BicopFamily.bb1])\n",
    "print(controls)\n",
    "\n",
    "# Create a new object an select family and parameters by fitting to data\n",
    "cop2 = pv.Vinecop(mat, pcs)\n",
    "cop2.select(data=u, controls=controls)\n",
    "print(cop2)\n",
    "\n",
    "# Otherwise, create directly from data\n",
    "cop2 = pv.Vinecop(data=u, matrix=mat, controls=controls)\n",
    "print(cop2)"
   ]
  },
  {
   "cell_type": "markdown",
   "metadata": {},
   "source": [
    "When nothing is known, there are also two ways to fit a copula..."
   ]
  },
  {
   "cell_type": "code",
   "execution_count": 5,
   "metadata": {},
   "outputs": [
    {
     "name": "stdout",
     "output_type": "stream",
     "text": [
      "<pyvinecopulib.Vinecop>\n",
      "** Tree: 0\n",
      "2,1 <-> BB1 90°, parameters = 2.98212\n",
      "2.04269\n",
      "1,3 <-> BB6 90°, parameters = 1.54273\n",
      "3.96417\n",
      "** Tree: 1\n",
      "2,3 | 1 <-> BB7 90°, parameters = 5.25545\n",
      " 2.3454\n",
      "\n",
      "<pyvinecopulib.Vinecop>\n",
      "** Tree: 0\n",
      "2,1 <-> BB1 90°, parameters = 2.98212\n",
      "2.04269\n",
      "1,3 <-> BB6 90°, parameters = 1.54273\n",
      "3.96417\n",
      "** Tree: 1\n",
      "2,3 | 1 <-> BB7 90°, parameters = 5.25545\n",
      " 2.3454\n",
      "\n"
     ]
    }
   ],
   "source": [
    "# Create a new object and select strucutre, family, and parameters\n",
    "cop3 = pv.Vinecop(d=3)\n",
    "cop3.select(data=u)\n",
    "print(cop3)\n",
    "\n",
    "# Otherwise, create directly from data\n",
    "cop3 = pv.Vinecop(data=u)\n",
    "print(cop3)"
   ]
  },
  {
   "cell_type": "code",
   "execution_count": 6,
   "metadata": {},
   "outputs": [
    {
     "name": "stdout",
     "output_type": "stream",
     "text": [
      "<pyvinecopulib.Vinecop>\n",
      "** Tree: 0\n",
      "4,1 <-> Gaussian, parameters = 0.5\n",
      "3,1 <-> Clayton, parameters = 3\n",
      "2,1 <-> Student, parameters = 0.4\n",
      "  4\n",
      "** Tree: 1\n",
      "4,2 | 1 <-> Independence\n",
      "3,2 | 1 <-> Gaussian, parameters = 0.5\n",
      "** Tree: 2\n",
      "4,3 | 2,1 <-> Gaussian, parameters = 0\n",
      "\n"
     ]
    }
   ],
   "source": [
    "# create a C-vine structure with root node 1 in first tree, 2 in second, ...\n",
    "cvine = pv.CVineStructure([4, 3, 2, 1]) \n",
    "# specify pair-copulas in every tree\n",
    "tree1 = [pv.Bicop(pv.BicopFamily.gaussian, 0, [0.5]), \n",
    "         pv.Bicop(pv.BicopFamily.clayton, 0, [3]),\n",
    "         pv.Bicop(pv.BicopFamily.student, 0, [0.4, 4])]\n",
    "tree2 = [pv.Bicop(pv.BicopFamily.indep), \n",
    "         pv.Bicop(pv.BicopFamily.gaussian, 0, [0.5])]\n",
    "tree3 = [pv.Bicop(pv.BicopFamily.gaussian)]\n",
    "\n",
    "# instantiate C-vine copula model\n",
    "cop = pv.Vinecop(cvine, [tree1, tree2, tree3])\n",
    "u1 = cop.simulate(n=1000, seeds=[1, 2, 3])\n",
    "print(cop)"
   ]
  },
  {
   "cell_type": "markdown",
   "metadata": {},
   "source": [
    "# My testing"
   ]
  },
  {
   "cell_type": "code",
   "execution_count": 7,
   "metadata": {},
   "outputs": [
    {
     "data": {
      "text/plain": [
       "array([[0.1638618 , 0.70626175, 0.90039145],\n",
       "       [0.90118677, 0.14910265, 0.09861981],\n",
       "       [0.62193432, 0.30831326, 0.46931803],\n",
       "       [0.6902412 , 0.274291  , 0.35372345],\n",
       "       [0.13685699, 0.85611936, 0.8537963 ],\n",
       "       [0.03952828, 0.95766484, 0.95800357],\n",
       "       [0.48023317, 0.36773659, 0.63136997],\n",
       "       [0.19787956, 0.83474121, 0.76053974],\n",
       "       [0.85523898, 0.16315493, 0.15700527],\n",
       "       [0.17627362, 0.76174678, 0.86600893]])"
      ]
     },
     "execution_count": 7,
     "metadata": {},
     "output_type": "execute_result"
    }
   ],
   "source": [
    "u[:10]"
   ]
  },
  {
   "cell_type": "code",
   "execution_count": 8,
   "metadata": {},
   "outputs": [
    {
     "name": "stdout",
     "output_type": "stream",
     "text": [
      "** Tree: 0\n",
      "3,1 <-> BB6 270°, parameters = 1.54273\n",
      "3.96417\n",
      "2,1 <-> BB1 90°, parameters = 2.98212\n",
      "2.04269\n",
      "** Tree: 1\n",
      "3,2 | 1 <-> BB7 270°, parameters = 5.25545\n",
      " 2.3454\n",
      "\n"
     ]
    }
   ],
   "source": [
    "cvine = pv.CVineStructure([3, 2, 1]) \n",
    "\n",
    "cop4 = pv.Vinecop(data=u, structure=cvine)\n",
    "print(cop4.str())"
   ]
  },
  {
   "cell_type": "code",
   "execution_count": 9,
   "metadata": {},
   "outputs": [
    {
     "data": {
      "text/plain": [
       "[[<pyvinecopulib.Bicop>\n",
       "  BB6 270°, parameters = 1.54273\n",
       "  3.96417,\n",
       "  <pyvinecopulib.Bicop>\n",
       "  BB1 90°, parameters = 2.98212\n",
       "  2.04269],\n",
       " [<pyvinecopulib.Bicop>\n",
       "  BB7 270°, parameters = 5.25545\n",
       "   2.3454]]"
      ]
     },
     "execution_count": 9,
     "metadata": {},
     "output_type": "execute_result"
    }
   ],
   "source": [
    "cop4.pair_copulas"
   ]
  },
  {
   "cell_type": "code",
   "execution_count": 10,
   "metadata": {},
   "outputs": [],
   "source": [
    "# Sucessfully got the bottom level copula\n",
    "bicop3 = cop4.pair_copulas[-1][0]"
   ]
  },
  {
   "cell_type": "code",
   "execution_count": 11,
   "metadata": {},
   "outputs": [
    {
     "data": {
      "text/plain": [
       "-2807.784578359101"
      ]
     },
     "execution_count": 11,
     "metadata": {},
     "output_type": "execute_result"
    }
   ],
   "source": [
    "bicop3.aic()"
   ]
  },
  {
   "cell_type": "markdown",
   "metadata": {},
   "source": [
    "need to get the conditional distributions of the upper copulas to form the input for the lower"
   ]
  },
  {
   "cell_type": "code",
   "execution_count": 12,
   "metadata": {},
   "outputs": [],
   "source": [
    "# get the two bicops in the 0th tree\n",
    "bicop1, bicop2 = cop4.pair_copulas[0][0], cop4.pair_copulas[0][1]"
   ]
  },
  {
   "cell_type": "code",
   "execution_count": 13,
   "metadata": {},
   "outputs": [
    {
     "data": {
      "text/plain": [
       "array([[0.1638618 , 0.70626175, 0.90039145],\n",
       "       [0.90118677, 0.14910265, 0.09861981],\n",
       "       [0.62193432, 0.30831326, 0.46931803],\n",
       "       [0.6902412 , 0.274291  , 0.35372345],\n",
       "       [0.13685699, 0.85611936, 0.8537963 ],\n",
       "       [0.03952828, 0.95766484, 0.95800357],\n",
       "       [0.48023317, 0.36773659, 0.63136997],\n",
       "       [0.19787956, 0.83474121, 0.76053974],\n",
       "       [0.85523898, 0.16315493, 0.15700527],\n",
       "       [0.17627362, 0.76174678, 0.86600893]])"
      ]
     },
     "execution_count": 13,
     "metadata": {},
     "output_type": "execute_result"
    }
   ],
   "source": [
    "# assuming that the columns correspond to the structure\n",
    "\n",
    "\n",
    "# columns are : 3, 2, 1\n",
    "u[:10]"
   ]
  },
  {
   "cell_type": "code",
   "execution_count": 14,
   "metadata": {},
   "outputs": [
    {
     "data": {
      "text/plain": [
       "(0.16386179542130458, 0.7062617548799608, 0.9003914492495824)"
      ]
     },
     "execution_count": 14,
     "metadata": {},
     "output_type": "execute_result"
    }
   ],
   "source": [
    "# Column name 3\n",
    "c3 = u.T[0].T\n",
    "c2 = u.T[1].T\n",
    "c1 = u.T[2].T\n",
    "c3[0], c2[0], c1[0]"
   ]
  },
  {
   "cell_type": "markdown",
   "metadata": {},
   "source": [
    "bicop1:\n",
    "3,1 <-> BB6 270°, parameters = 1.54273\n",
    "3.96417\n",
    "\n",
    "takes in 3, 1\n",
    "\n",
    "try and see if fitting 3, 1 to an unbound copula gives the same result"
   ]
  },
  {
   "cell_type": "code",
   "execution_count": 15,
   "metadata": {},
   "outputs": [],
   "source": [
    "# getting 3, 1\n",
    "three_one = np.array([c3, c1]).T"
   ]
  },
  {
   "cell_type": "code",
   "execution_count": 16,
   "metadata": {},
   "outputs": [
    {
     "data": {
      "text/plain": [
       "<pyvinecopulib.Bicop>\n",
       "BB6 270°, parameters = 1.54273\n",
       "3.96417"
      ]
     },
     "execution_count": 16,
     "metadata": {},
     "output_type": "execute_result"
    }
   ],
   "source": [
    "bicop1"
   ]
  },
  {
   "cell_type": "code",
   "execution_count": 17,
   "metadata": {},
   "outputs": [
    {
     "data": {
      "text/plain": [
       "(<pyvinecopulib.Bicop>\n",
       " BB6 270°, parameters = 1.54273\n",
       " 3.96417,\n",
       " <pyvinecopulib.Bicop>\n",
       " BB6 90°, parameters = 1.54273\n",
       " 3.96417)"
      ]
     },
     "execution_count": 17,
     "metadata": {},
     "output_type": "execute_result"
    }
   ],
   "source": [
    "cop6 = pv.Bicop(data=three_one)\n",
    "bicop1, cop6"
   ]
  },
  {
   "cell_type": "markdown",
   "metadata": {},
   "source": [
    "The same thing!\n",
    "\n",
    "get the hfunction for the first copula"
   ]
  },
  {
   "cell_type": "code",
   "execution_count": 18,
   "metadata": {},
   "outputs": [
    {
     "data": {
      "text/plain": [
       "array([0.96366968, 0.40500159, 0.78948128, 0.64018201, 0.45784887,\n",
       "       0.47185066, 0.8791551 , 0.27981398, 0.48865576, 0.86985676])"
      ]
     },
     "execution_count": 18,
     "metadata": {},
     "output_type": "execute_result"
    }
   ],
   "source": [
    "h1 = cop6.hfunc1(u = three_one)\n",
    "h1[:10]"
   ]
  },
  {
   "cell_type": "markdown",
   "metadata": {},
   "source": [
    "2,1 <-> BB1 90°, parameters = 2.98212\n",
    "2.04269\n",
    "\n",
    "second function:"
   ]
  },
  {
   "cell_type": "code",
   "execution_count": 19,
   "metadata": {},
   "outputs": [
    {
     "data": {
      "text/plain": [
       "(<pyvinecopulib.Bicop>\n",
       " BB1 90°, parameters = 2.98212\n",
       " 2.04269,\n",
       " <pyvinecopulib.Bicop>\n",
       " BB1 90°, parameters = 2.98212\n",
       " 2.04269)"
      ]
     },
     "execution_count": 19,
     "metadata": {},
     "output_type": "execute_result"
    }
   ],
   "source": [
    "one_two = np.array([c2, c3]).T\n",
    "bicop2, pv.Bicop(one_two)"
   ]
  },
  {
   "cell_type": "code",
   "execution_count": 20,
   "metadata": {},
   "outputs": [
    {
     "data": {
      "text/plain": [
       "<pyvinecopulib.Bicop>\n",
       "BB1 90°, parameters = 2.98212\n",
       "2.04269"
      ]
     },
     "execution_count": 20,
     "metadata": {},
     "output_type": "execute_result"
    }
   ],
   "source": [
    "bicop2 = cop4.get_pair_copula(tree=0, edge=1)\n",
    "bicop2"
   ]
  },
  {
   "cell_type": "code",
   "execution_count": 21,
   "metadata": {},
   "outputs": [
    {
     "name": "stdout",
     "output_type": "stream",
     "text": [
      "Does bicop 1 (tree 0 edge 0) match data 3, 1: True\n",
      "Does bicop 2 (tree 0 edge 1) match data 2, 1: True\n"
     ]
    }
   ],
   "source": [
    "# assuming that the columns are opposite to the structure\n",
    "\n",
    "# columns are : 1, 2, 3\n",
    "\n",
    "c1 = u.T[0].T\n",
    "c2 = u.T[1].T\n",
    "c3 = u.T[2].T\n",
    "\n",
    "# Assuming one is the centre\n",
    "three_one = np.array([c3, c1]).T\n",
    "two_one = np.array([c2, c1]).T\n",
    "\n",
    "# Get the two bicops\n",
    "# bicop 1 is 3, 1 \n",
    "# bicop 2 is 2, 1\n",
    "bicop1, bicop2 = cop4.pair_copulas[0][0], cop4.pair_copulas[0][1]\n",
    "\n",
    "# bicop1, pv.Bicop(three_one)\n",
    "\n",
    "\n",
    "print(f\"Does bicop 1 (tree 0 edge 0) match data 3, 1: {bicop1.aic() == pv.Bicop(three_one).aic()}\")\n",
    "print(f\"Does bicop 2 (tree 0 edge 1) match data 2, 1: {bicop2.aic() == pv.Bicop(two_one).aic()}\")"
   ]
  },
  {
   "cell_type": "code",
   "execution_count": 22,
   "metadata": {},
   "outputs": [
    {
     "name": "stdout",
     "output_type": "stream",
     "text": [
      "<bound method PyCapsule.str of <pyvinecopulib.Vinecop>\n",
      "** Tree: 0\n",
      "3,1 <-> BB6 270°, parameters = 1.54273\n",
      "3.96417\n",
      "2,1 <-> BB1 90°, parameters = 2.98212\n",
      "2.04269\n",
      "** Tree: 1\n",
      "3,2 | 1 <-> BB7 270°, parameters = 5.25545\n",
      " 2.3454\n",
      ">\n"
     ]
    }
   ],
   "source": [
    "print(cop4.str)"
   ]
  },
  {
   "cell_type": "code",
   "execution_count": 23,
   "metadata": {},
   "outputs": [],
   "source": [
    "h1 = bicop1.hfunc2(u = three_one) # should be changed to be the real stock data for each\n",
    "h2 = bicop2.hfunc2(u = two_one)\n",
    "\n",
    "# assume that the data used is h1, h2\n",
    "h = np.array([h1, h2]).T\n",
    "# get the tree 1 bicop\n",
    "bicop3 = cop4.pair_copulas[1][0]\n",
    "# bicop3.aic() == pv.Bicop(h).aic()"
   ]
  },
  {
   "cell_type": "code",
   "execution_count": 24,
   "metadata": {},
   "outputs": [
    {
     "data": {
      "text/plain": [
       "(array([[0.96366968, 0.03082567],\n",
       "        [0.40500158, 0.63460285],\n",
       "        [0.78948128, 0.29119366],\n",
       "        ...,\n",
       "        [0.11731375, 0.91317656],\n",
       "        [0.90769446, 0.08364188],\n",
       "        [0.9829503 , 0.02165676]]),\n",
       " 0.9636696786080494)"
      ]
     },
     "execution_count": 24,
     "metadata": {},
     "output_type": "execute_result"
    }
   ],
   "source": [
    "h, h1[0]"
   ]
  },
  {
   "cell_type": "code",
   "execution_count": 25,
   "metadata": {},
   "outputs": [
    {
     "data": {
      "text/plain": [
       "array([0.37378069, 0.59068134, 0.8732499 , 0.60757189, 0.36947242,\n",
       "       0.33500097, 0.61863269, 0.63348215, 0.50892447, 0.76540824])"
      ]
     },
     "execution_count": 25,
     "metadata": {},
     "output_type": "execute_result"
    }
   ],
   "source": [
    "bicop3.hfunc2(h)[:10]\n"
   ]
  },
  {
   "cell_type": "code",
   "execution_count": 26,
   "metadata": {},
   "outputs": [
    {
     "data": {
      "text/plain": [
       "[<pyvinecopulib.Bicop>\n",
       " BB7 270°, parameters = 5.25545\n",
       "  2.3454]"
      ]
     },
     "execution_count": 26,
     "metadata": {},
     "output_type": "execute_result"
    }
   ],
   "source": [
    "cop4.pair_copulas[1]"
   ]
  },
  {
   "cell_type": "code",
   "execution_count": 27,
   "metadata": {},
   "outputs": [],
   "source": [
    "u = cop.simulate(n=1000, seeds=[1, 2, 3])"
   ]
  },
  {
   "cell_type": "code",
   "execution_count": 28,
   "metadata": {},
   "outputs": [
    {
     "ename": "ValueError",
     "evalue": "Shape of passed values is (1000, 4), indices imply (1000, 3)",
     "output_type": "error",
     "traceback": [
      "\u001b[0;31m---------------------------------------------------------------------------\u001b[0m",
      "\u001b[0;31mValueError\u001b[0m                                Traceback (most recent call last)",
      "\u001b[1;32m/Users/jasperchong/PycharmProjects/Statistical Arbitrage/Copulas pair trading/examples/vine_copulas.ipynb Cell 38\u001b[0m line \u001b[0;36m<cell line: 2>\u001b[0;34m()\u001b[0m\n\u001b[1;32m      <a href='vscode-notebook-cell:/Users/jasperchong/PycharmProjects/Statistical%20Arbitrage/Copulas%20pair%20trading/examples/vine_copulas.ipynb#X52sZmlsZQ%3D%3D?line=0'>1</a>\u001b[0m \u001b[39mimport\u001b[39;00m \u001b[39mpandas\u001b[39;00m \u001b[39mas\u001b[39;00m \u001b[39mpd\u001b[39;00m\n\u001b[0;32m----> <a href='vscode-notebook-cell:/Users/jasperchong/PycharmProjects/Statistical%20Arbitrage/Copulas%20pair%20trading/examples/vine_copulas.ipynb#X52sZmlsZQ%3D%3D?line=1'>2</a>\u001b[0m df \u001b[39m=\u001b[39m pd\u001b[39m.\u001b[39;49mDataFrame(u, columns\u001b[39m=\u001b[39;49m[\u001b[39m'\u001b[39;49m\u001b[39m1\u001b[39;49m\u001b[39m'\u001b[39;49m, \u001b[39m'\u001b[39;49m\u001b[39m2\u001b[39;49m\u001b[39m'\u001b[39;49m, \u001b[39m'\u001b[39;49m\u001b[39m3\u001b[39;49m\u001b[39m'\u001b[39;49m])\n\u001b[1;32m      <a href='vscode-notebook-cell:/Users/jasperchong/PycharmProjects/Statistical%20Arbitrage/Copulas%20pair%20trading/examples/vine_copulas.ipynb#X52sZmlsZQ%3D%3D?line=2'>3</a>\u001b[0m df\u001b[39m.\u001b[39mhead()\n",
      "File \u001b[0;32m~/opt/miniconda3/lib/python3.9/site-packages/pandas/core/frame.py:694\u001b[0m, in \u001b[0;36mDataFrame.__init__\u001b[0;34m(self, data, index, columns, dtype, copy)\u001b[0m\n\u001b[1;32m    684\u001b[0m         mgr \u001b[39m=\u001b[39m dict_to_mgr(\n\u001b[1;32m    685\u001b[0m             \u001b[39m# error: Item \"ndarray\" of \"Union[ndarray, Series, Index]\" has no\u001b[39;00m\n\u001b[1;32m    686\u001b[0m             \u001b[39m# attribute \"name\"\u001b[39;00m\n\u001b[0;32m   (...)\u001b[0m\n\u001b[1;32m    691\u001b[0m             typ\u001b[39m=\u001b[39mmanager,\n\u001b[1;32m    692\u001b[0m         )\n\u001b[1;32m    693\u001b[0m     \u001b[39melse\u001b[39;00m:\n\u001b[0;32m--> 694\u001b[0m         mgr \u001b[39m=\u001b[39m ndarray_to_mgr(\n\u001b[1;32m    695\u001b[0m             data,\n\u001b[1;32m    696\u001b[0m             index,\n\u001b[1;32m    697\u001b[0m             columns,\n\u001b[1;32m    698\u001b[0m             dtype\u001b[39m=\u001b[39;49mdtype,\n\u001b[1;32m    699\u001b[0m             copy\u001b[39m=\u001b[39;49mcopy,\n\u001b[1;32m    700\u001b[0m             typ\u001b[39m=\u001b[39;49mmanager,\n\u001b[1;32m    701\u001b[0m         )\n\u001b[1;32m    703\u001b[0m \u001b[39m# For data is list-like, or Iterable (will consume into list)\u001b[39;00m\n\u001b[1;32m    704\u001b[0m \u001b[39melif\u001b[39;00m is_list_like(data):\n",
      "File \u001b[0;32m~/opt/miniconda3/lib/python3.9/site-packages/pandas/core/internals/construction.py:351\u001b[0m, in \u001b[0;36mndarray_to_mgr\u001b[0;34m(values, index, columns, dtype, copy, typ)\u001b[0m\n\u001b[1;32m    346\u001b[0m \u001b[39m# _prep_ndarray ensures that values.ndim == 2 at this point\u001b[39;00m\n\u001b[1;32m    347\u001b[0m index, columns \u001b[39m=\u001b[39m _get_axes(\n\u001b[1;32m    348\u001b[0m     values\u001b[39m.\u001b[39mshape[\u001b[39m0\u001b[39m], values\u001b[39m.\u001b[39mshape[\u001b[39m1\u001b[39m], index\u001b[39m=\u001b[39mindex, columns\u001b[39m=\u001b[39mcolumns\n\u001b[1;32m    349\u001b[0m )\n\u001b[0;32m--> 351\u001b[0m _check_values_indices_shape_match(values, index, columns)\n\u001b[1;32m    353\u001b[0m \u001b[39mif\u001b[39;00m typ \u001b[39m==\u001b[39m \u001b[39m\"\u001b[39m\u001b[39marray\u001b[39m\u001b[39m\"\u001b[39m:\n\u001b[1;32m    355\u001b[0m     \u001b[39mif\u001b[39;00m \u001b[39missubclass\u001b[39m(values\u001b[39m.\u001b[39mdtype\u001b[39m.\u001b[39mtype, \u001b[39mstr\u001b[39m):\n",
      "File \u001b[0;32m~/opt/miniconda3/lib/python3.9/site-packages/pandas/core/internals/construction.py:422\u001b[0m, in \u001b[0;36m_check_values_indices_shape_match\u001b[0;34m(values, index, columns)\u001b[0m\n\u001b[1;32m    420\u001b[0m passed \u001b[39m=\u001b[39m values\u001b[39m.\u001b[39mshape\n\u001b[1;32m    421\u001b[0m implied \u001b[39m=\u001b[39m (\u001b[39mlen\u001b[39m(index), \u001b[39mlen\u001b[39m(columns))\n\u001b[0;32m--> 422\u001b[0m \u001b[39mraise\u001b[39;00m \u001b[39mValueError\u001b[39;00m(\u001b[39mf\u001b[39m\u001b[39m\"\u001b[39m\u001b[39mShape of passed values is \u001b[39m\u001b[39m{\u001b[39;00mpassed\u001b[39m}\u001b[39;00m\u001b[39m, indices imply \u001b[39m\u001b[39m{\u001b[39;00mimplied\u001b[39m}\u001b[39;00m\u001b[39m\"\u001b[39m)\n",
      "\u001b[0;31mValueError\u001b[0m: Shape of passed values is (1000, 4), indices imply (1000, 3)"
     ]
    }
   ],
   "source": [
    "import pandas as pd\n",
    "df = pd.DataFrame(u, columns=['1', '2', '3'])\n",
    "df.head()"
   ]
  },
  {
   "cell_type": "code",
   "execution_count": null,
   "metadata": {},
   "outputs": [
    {
     "data": {
      "text/plain": [
       "(           h0        h1\n",
       " 0    0.038688  0.972348\n",
       " 1    0.652243  0.386573\n",
       " 2    0.275575  0.782621\n",
       " 3    0.365293  0.632777\n",
       " 4    0.481498  0.448304\n",
       " ..        ...       ...\n",
       " 995  0.822315  0.170628\n",
       " 996  0.312937  0.607054\n",
       " 997  0.928248  0.100438\n",
       " 998  0.085878  0.892522\n",
       " 999  0.035388  0.977070\n",
       " \n",
       " [1000 rows x 2 columns],\n",
       " array([[0.96366968, 0.03082567],\n",
       "        [0.40500158, 0.63460285],\n",
       "        [0.78948128, 0.29119366],\n",
       "        ...,\n",
       "        [0.11731375, 0.91317656],\n",
       "        [0.90769446, 0.08364188],\n",
       "        [0.9829503 , 0.02165676]]))"
      ]
     },
     "execution_count": 368,
     "metadata": {},
     "output_type": "execute_result"
    }
   ],
   "source": [
    "def c_tree_distributions(tree, u):\n",
    "    # u is the stock data\n",
    "    \"\"\" Break up the tree into their h-functions (only for c vines)\n",
    "    :tree: a list of the bivariate copulas in a tree\n",
    "    :u: an n by d matrix of observations (columns are node names ascending order)\n",
    "    :returns: n by d array of conditional probabilities\n",
    "    \"\"\"\n",
    "    # central is the first column\n",
    "    if len(u[0])-1 != len(tree):\n",
    "        return \"tree and dataset doesn't match\"\n",
    "\n",
    "    if len(u[0]) <= 1:\n",
    "        return \"not big enough\"\n",
    "    \n",
    "    # central is the first column\n",
    "    c1 = u.T[0].T\n",
    "\n",
    "    #out = {}\n",
    "    #out = []\n",
    "    out = pd.DataFrame()\n",
    "\n",
    "    for i in range(1, len(u[0]), 1): # goes down so it matches the other data, columns are descending order\n",
    "        # find each column\n",
    "        #print('loop')\n",
    "        ci = u.T[i].T\n",
    "        copi = tree[i-1]\n",
    "\n",
    "        # get the ith column and the first one in one array\n",
    "\n",
    "        \n",
    "        i_one = np.array([ci, c1]).T\n",
    "\n",
    "        # calculate the conditional probabability for i given 1\n",
    "        hi = copi.hfunc2(i_one)\n",
    "        out[f'h{i-1}'] = hi\n",
    "        #out.append(hi)\n",
    "        \n",
    "    #print(out[0][0], out[1][0])\n",
    "    # return np.array(out).T\n",
    "    return out\n",
    "\n",
    "tree0 = cop4.pair_copulas[0]\n",
    "tree0_distributions = c_tree_distributions(tree0, u)\n",
    "tree0_distributions, h"
   ]
  },
  {
   "cell_type": "code",
   "execution_count": null,
   "metadata": {},
   "outputs": [
    {
     "data": {
      "text/plain": [
       "(         h0\n",
       " 0  0.879899\n",
       " 1  0.579951\n",
       " 2  0.814649\n",
       " 3  0.558316\n",
       " 4  0.365117\n",
       " 5  0.338194\n",
       " 6  0.492016\n",
       " 7  0.573650\n",
       " 8  0.506203\n",
       " 9  0.901893,\n",
       " array([0.37378069, 0.59068134, 0.8732499 , 0.60757189, 0.36947242,\n",
       "        0.33500097, 0.61863269, 0.63348215, 0.50892447, 0.76540824]))"
      ]
     },
     "execution_count": 370,
     "metadata": {},
     "output_type": "execute_result"
    }
   ],
   "source": [
    "tree1 = cop4.pair_copulas[1]\n",
    "tree1_distributions = c_tree_distributions(tree1, np.array(tree0_distributions))\n",
    "tree1_distributions[:10], bicop3.hfunc2(h)[:10]"
   ]
  },
  {
   "cell_type": "code",
   "execution_count": null,
   "metadata": {},
   "outputs": [
    {
     "data": {
      "text/html": [
       "<div>\n",
       "<style scoped>\n",
       "    .dataframe tbody tr th:only-of-type {\n",
       "        vertical-align: middle;\n",
       "    }\n",
       "\n",
       "    .dataframe tbody tr th {\n",
       "        vertical-align: top;\n",
       "    }\n",
       "\n",
       "    .dataframe thead th {\n",
       "        text-align: right;\n",
       "    }\n",
       "</style>\n",
       "<table border=\"1\" class=\"dataframe\">\n",
       "  <thead>\n",
       "    <tr style=\"text-align: right;\">\n",
       "      <th></th>\n",
       "      <th>h0</th>\n",
       "      <th>h1</th>\n",
       "    </tr>\n",
       "  </thead>\n",
       "  <tbody>\n",
       "    <tr>\n",
       "      <th>0</th>\n",
       "      <td>0.038688</td>\n",
       "      <td>0.972348</td>\n",
       "    </tr>\n",
       "    <tr>\n",
       "      <th>1</th>\n",
       "      <td>0.652243</td>\n",
       "      <td>0.386573</td>\n",
       "    </tr>\n",
       "    <tr>\n",
       "      <th>2</th>\n",
       "      <td>0.275575</td>\n",
       "      <td>0.782621</td>\n",
       "    </tr>\n",
       "    <tr>\n",
       "      <th>3</th>\n",
       "      <td>0.365293</td>\n",
       "      <td>0.632777</td>\n",
       "    </tr>\n",
       "    <tr>\n",
       "      <th>4</th>\n",
       "      <td>0.481498</td>\n",
       "      <td>0.448304</td>\n",
       "    </tr>\n",
       "    <tr>\n",
       "      <th>...</th>\n",
       "      <td>...</td>\n",
       "      <td>...</td>\n",
       "    </tr>\n",
       "    <tr>\n",
       "      <th>995</th>\n",
       "      <td>0.822315</td>\n",
       "      <td>0.170628</td>\n",
       "    </tr>\n",
       "    <tr>\n",
       "      <th>996</th>\n",
       "      <td>0.312937</td>\n",
       "      <td>0.607054</td>\n",
       "    </tr>\n",
       "    <tr>\n",
       "      <th>997</th>\n",
       "      <td>0.928248</td>\n",
       "      <td>0.100438</td>\n",
       "    </tr>\n",
       "    <tr>\n",
       "      <th>998</th>\n",
       "      <td>0.085878</td>\n",
       "      <td>0.892522</td>\n",
       "    </tr>\n",
       "    <tr>\n",
       "      <th>999</th>\n",
       "      <td>0.035388</td>\n",
       "      <td>0.977070</td>\n",
       "    </tr>\n",
       "  </tbody>\n",
       "</table>\n",
       "<p>1000 rows × 2 columns</p>\n",
       "</div>"
      ],
      "text/plain": [
       "           h0        h1\n",
       "0    0.038688  0.972348\n",
       "1    0.652243  0.386573\n",
       "2    0.275575  0.782621\n",
       "3    0.365293  0.632777\n",
       "4    0.481498  0.448304\n",
       "..        ...       ...\n",
       "995  0.822315  0.170628\n",
       "996  0.312937  0.607054\n",
       "997  0.928248  0.100438\n",
       "998  0.085878  0.892522\n",
       "999  0.035388  0.977070\n",
       "\n",
       "[1000 rows x 2 columns]"
      ]
     },
     "execution_count": 371,
     "metadata": {},
     "output_type": "execute_result"
    }
   ],
   "source": [
    "tree0_distributions"
   ]
  },
  {
   "cell_type": "code",
   "execution_count": null,
   "metadata": {},
   "outputs": [
    {
     "name": "stdout",
     "output_type": "stream",
     "text": [
      "** Tree: 0\n",
      "4,1 <-> Gaussian, parameters = 0.513887\n",
      "3,1 <-> Clayton, parameters = 3.04561\n",
      "2,1 <-> Student, parameters = 0.414607\n",
      " 4.11942\n",
      "** Tree: 1\n",
      "4,2 | 1 <-> Independence\n",
      "3,2 | 1 <-> Gaussian, parameters = 0.458744\n",
      "** Tree: 2\n",
      "4,3 | 2,1 <-> Frank, parameters = -0.311616\n",
      "\n"
     ]
    }
   ],
   "source": [
    "cvine2 = pv.CVineStructure([4, 3, 2, 1]) \n",
    "\n",
    "cop10 = pv.Vinecop(data=u1, structure=cvine2)\n",
    "print(cop10.str())"
   ]
  },
  {
   "cell_type": "code",
   "execution_count": null,
   "metadata": {},
   "outputs": [
    {
     "data": {
      "text/html": [
       "<div>\n",
       "<style scoped>\n",
       "    .dataframe tbody tr th:only-of-type {\n",
       "        vertical-align: middle;\n",
       "    }\n",
       "\n",
       "    .dataframe tbody tr th {\n",
       "        vertical-align: top;\n",
       "    }\n",
       "\n",
       "    .dataframe thead th {\n",
       "        text-align: right;\n",
       "    }\n",
       "</style>\n",
       "<table border=\"1\" class=\"dataframe\">\n",
       "  <thead>\n",
       "    <tr style=\"text-align: right;\">\n",
       "      <th></th>\n",
       "      <th>h0</th>\n",
       "      <th>h1</th>\n",
       "      <th>h2</th>\n",
       "    </tr>\n",
       "  </thead>\n",
       "  <tbody>\n",
       "    <tr>\n",
       "      <th>0</th>\n",
       "      <td>0.051003</td>\n",
       "      <td>0.348098</td>\n",
       "      <td>0.154372</td>\n",
       "    </tr>\n",
       "    <tr>\n",
       "      <th>1</th>\n",
       "      <td>0.595289</td>\n",
       "      <td>0.603045</td>\n",
       "      <td>0.194209</td>\n",
       "    </tr>\n",
       "    <tr>\n",
       "      <th>2</th>\n",
       "      <td>0.287131</td>\n",
       "      <td>0.790391</td>\n",
       "      <td>0.516892</td>\n",
       "    </tr>\n",
       "    <tr>\n",
       "      <th>3</th>\n",
       "      <td>0.353683</td>\n",
       "      <td>0.495890</td>\n",
       "      <td>0.235785</td>\n",
       "    </tr>\n",
       "    <tr>\n",
       "      <th>4</th>\n",
       "      <td>0.517288</td>\n",
       "      <td>0.306026</td>\n",
       "      <td>0.244165</td>\n",
       "    </tr>\n",
       "  </tbody>\n",
       "</table>\n",
       "</div>"
      ],
      "text/plain": [
       "         h0        h1        h2\n",
       "0  0.051003  0.348098  0.154372\n",
       "1  0.595289  0.603045  0.194209\n",
       "2  0.287131  0.790391  0.516892\n",
       "3  0.353683  0.495890  0.235785\n",
       "4  0.517288  0.306026  0.244165"
      ]
     },
     "execution_count": 380,
     "metadata": {},
     "output_type": "execute_result"
    }
   ],
   "source": [
    "# get the distributions for the first tree (from the 0th tree)\n",
    "\n",
    "tree0_dist = c_tree_distributions(tree=cop10.pair_copulas[0], u=u1)\n",
    "tree0_dist.head()"
   ]
  },
  {
   "cell_type": "code",
   "execution_count": null,
   "metadata": {},
   "outputs": [
    {
     "data": {
      "text/plain": [
       "(-220.81892248456325, -218.06642328819123)"
      ]
     },
     "execution_count": 374,
     "metadata": {},
     "output_type": "execute_result"
    }
   ],
   "source": [
    "bicop4 = cop10.pair_copulas[1][1]\n",
    "\n",
    "h1_h0 = np.array([np.array(tree0_dist[\"h1\"]), np.array(tree0_dist[\"h0\"])]).T\n",
    "pv.Bicop(h1_h0).aic(), bicop4.aic(h1_h0)"
   ]
  },
  {
   "cell_type": "code",
   "execution_count": null,
   "metadata": {},
   "outputs": [
    {
     "data": {
      "text/html": [
       "<div>\n",
       "<style scoped>\n",
       "    .dataframe tbody tr th:only-of-type {\n",
       "        vertical-align: middle;\n",
       "    }\n",
       "\n",
       "    .dataframe tbody tr th {\n",
       "        vertical-align: top;\n",
       "    }\n",
       "\n",
       "    .dataframe thead th {\n",
       "        text-align: right;\n",
       "    }\n",
       "</style>\n",
       "<table border=\"1\" class=\"dataframe\">\n",
       "  <thead>\n",
       "    <tr style=\"text-align: right;\">\n",
       "      <th></th>\n",
       "      <th>h0</th>\n",
       "      <th>h1</th>\n",
       "    </tr>\n",
       "  </thead>\n",
       "  <tbody>\n",
       "    <tr>\n",
       "      <th>0</th>\n",
       "      <td>0.348098</td>\n",
       "      <td>0.381596</td>\n",
       "    </tr>\n",
       "    <tr>\n",
       "      <th>1</th>\n",
       "      <td>0.603045</td>\n",
       "      <td>0.136723</td>\n",
       "    </tr>\n",
       "    <tr>\n",
       "      <th>2</th>\n",
       "      <td>0.790391</td>\n",
       "      <td>0.632206</td>\n",
       "    </tr>\n",
       "    <tr>\n",
       "      <th>3</th>\n",
       "      <td>0.495890</td>\n",
       "      <td>0.268814</td>\n",
       "    </tr>\n",
       "    <tr>\n",
       "      <th>4</th>\n",
       "      <td>0.306026</td>\n",
       "      <td>0.211204</td>\n",
       "    </tr>\n",
       "    <tr>\n",
       "      <th>...</th>\n",
       "      <td>...</td>\n",
       "      <td>...</td>\n",
       "    </tr>\n",
       "    <tr>\n",
       "      <th>995</th>\n",
       "      <td>0.602467</td>\n",
       "      <td>0.212444</td>\n",
       "    </tr>\n",
       "    <tr>\n",
       "      <th>996</th>\n",
       "      <td>0.198274</td>\n",
       "      <td>0.527562</td>\n",
       "    </tr>\n",
       "    <tr>\n",
       "      <th>997</th>\n",
       "      <td>0.707059</td>\n",
       "      <td>0.871144</td>\n",
       "    </tr>\n",
       "    <tr>\n",
       "      <th>998</th>\n",
       "      <td>0.080356</td>\n",
       "      <td>0.448583</td>\n",
       "    </tr>\n",
       "    <tr>\n",
       "      <th>999</th>\n",
       "      <td>0.119885</td>\n",
       "      <td>0.815064</td>\n",
       "    </tr>\n",
       "  </tbody>\n",
       "</table>\n",
       "<p>1000 rows × 2 columns</p>\n",
       "</div>"
      ],
      "text/plain": [
       "           h0        h1\n",
       "0    0.348098  0.381596\n",
       "1    0.603045  0.136723\n",
       "2    0.790391  0.632206\n",
       "3    0.495890  0.268814\n",
       "4    0.306026  0.211204\n",
       "..        ...       ...\n",
       "995  0.602467  0.212444\n",
       "996  0.198274  0.527562\n",
       "997  0.707059  0.871144\n",
       "998  0.080356  0.448583\n",
       "999  0.119885  0.815064\n",
       "\n",
       "[1000 rows x 2 columns]"
      ]
     },
     "execution_count": 383,
     "metadata": {},
     "output_type": "execute_result"
    }
   ],
   "source": [
    "u2 = np.array(tree0_dist)\n",
    "tree1_dist = c_tree_distributions(tree=cop10.pair_copulas[1], u=u2)\n",
    "tree1_dist"
   ]
  },
  {
   "cell_type": "code",
   "execution_count": null,
   "metadata": {},
   "outputs": [
    {
     "data": {
      "text/plain": [
       "(<pyvinecopulib.Bicop>\n",
       " Frank, parameters = -0.311616,\n",
       " <pyvinecopulib.Bicop>\n",
       " Gaussian, parameters = -0.184424)"
      ]
     },
     "execution_count": 386,
     "metadata": {},
     "output_type": "execute_result"
    }
   ],
   "source": [
    "bicopfinal = cop10.pair_copulas[2][0]\n",
    "h0_h1 = np.array([np.array(tree1_dist[\"h0\"]), np.array(tree1_dist[\"h1\"])]).T\n",
    "bicopfinal, pv.Bicop(h0_h1)"
   ]
  },
  {
   "cell_type": "markdown",
   "metadata": {},
   "source": [
    "write out slowly what h1 is in conditional terms\n",
    "\n",
    "https://hudsonthames.org/copula-for-statistical-arbitrage-a-c-vine-copula-trading-strategy/"
   ]
  },
  {
   "cell_type": "code",
   "execution_count": 29,
   "metadata": {},
   "outputs": [
    {
     "data": {
      "text/plain": [
       "array([[0.1638618 , 0.02834326, 0.15361975, 0.10164671],\n",
       "       [0.90118677, 0.80756393, 0.85073425, 0.3794888 ],\n",
       "       [0.62193432, 0.37359836, 0.82106409, 0.56510912],\n",
       "       [0.6902412 , 0.4733412 , 0.68600531, 0.34314186],\n",
       "       [0.13685699, 0.2996914 , 0.12138977, 0.1403756 ]])"
      ]
     },
     "execution_count": 29,
     "metadata": {},
     "output_type": "execute_result"
    }
   ],
   "source": [
    "# assume columns, S1, S2, S3, S4\n",
    "u1[:5]"
   ]
  },
  {
   "cell_type": "code",
   "execution_count": 30,
   "metadata": {},
   "outputs": [
    {
     "data": {
      "text/plain": [
       "<bound method PyCapsule.str of <pyvinecopulib.Vinecop>\n",
       "** Tree: 0\n",
       "1,4 <-> Gaussian, parameters = 0.513887\n",
       "2,4 <-> TLL, parameters = [30x30 grid]\n",
       "3,4 <-> BB8 180°, parameters =  1.97251\n",
       "0.899361\n",
       "** Tree: 1\n",
       "1,3 | 4 <-> BB1, parameters = 2.08981\n",
       "1.08063\n",
       "2,3 | 4 <-> TLL, parameters = [30x30 grid]\n",
       "** Tree: 2\n",
       "1,2 | 3,4 <-> Student, parameters = -0.102774\n",
       "  6.59947\n",
       ">"
      ]
     },
     "execution_count": 30,
     "metadata": {},
     "output_type": "execute_result"
    }
   ],
   "source": [
    "structure = pv.CVineStructure(order=[1,2,3,4])\n",
    "vinecop = pv.Vinecop(structure=structure, data=u1)\n",
    "vinecop.str"
   ]
  },
  {
   "cell_type": "code",
   "execution_count": 31,
   "metadata": {},
   "outputs": [],
   "source": [
    "S1 = u1.T[0].T\n",
    "S2 = u1.T[1].T\n",
    "S3 = u1.T[2].T\n",
    "S4 = u1.T[3].T"
   ]
  },
  {
   "cell_type": "code",
   "execution_count": 32,
   "metadata": {},
   "outputs": [],
   "source": [
    "cop0 = vinecop.pair_copulas[0][0]\n",
    "cop1 = vinecop.pair_copulas[0][1]"
   ]
  },
  {
   "cell_type": "markdown",
   "metadata": {},
   "source": [
    "compare cop0 with fitting a copula with s4 and s1 data to figure out the \"direction\""
   ]
  },
  {
   "cell_type": "code",
   "execution_count": 33,
   "metadata": {},
   "outputs": [
    {
     "name": "stdout",
     "output_type": "stream",
     "text": [
      "True\n",
      "True\n"
     ]
    }
   ],
   "source": [
    "print(cop0.aic() == pv.Bicop(data=np.array([S1, S4]).T).aic())\n",
    "print(cop1.aic() == pv.Bicop(data=np.array([S2, S4]).T).aic())"
   ]
  },
  {
   "cell_type": "markdown",
   "metadata": {},
   "source": [
    "therefore when the structure is 1,2,3,4\n",
    "\n",
    "the inputs before transpositon are 1, 4, for 1,4 on the graph\n",
    "\n",
    "lets try and map the data using the relationship  ```1,3 | 4``` for tree 1 edge 0\n",
    "\n",
    "assume 3 | 4 is always from the last copula of the first tree\n"
   ]
  },
  {
   "cell_type": "code",
   "execution_count": 34,
   "metadata": {},
   "outputs": [
    {
     "name": "stderr",
     "output_type": "stream",
     "text": [
      "/var/folders/f5/9kn8mtyn7p1cdn40mw2mhtn80000gn/T/ipykernel_9314/947168374.py:1: VisibleDeprecationWarning: Creating an ndarray from ragged nested sequences (which is a list-or-tuple of lists-or-tuples-or ndarrays with different lengths or shapes) is deprecated. If you meant to do this, you must specify 'dtype=object' when creating the ndarray.\n",
      "  pv.Bicop(data=np.array([S2, cop]).T)\n"
     ]
    },
    {
     "ename": "TypeError",
     "evalue": "__init__(): incompatible constructor arguments. The following argument types are supported:\n    1. pyvinecopulib.Bicop(family: pyvinecopulib.BicopFamily = <BicopFamily.indep: 0>, rotation: int = 0, parameters: numpy.ndarray[numpy.float64[m, n]] = array([], shape=(0, 0), dtype=float64), var_types: List[str] = ['c', 'c'])\n    2. pyvinecopulib.Bicop(data: numpy.ndarray[numpy.float64[m, 2]], controls: pyvinecopulib.FitControlsBicop = FitControlsBicop(), var_types: List[str] = ['c', 'c'])\n    3. pyvinecopulib.Bicop(filename: str)\n\nInvoked with: kwargs: data=array([array([2.83432611e-02, 8.07563934e-01, 3.73598356e-01, 4.73341202e-01,\n              2.99691405e-01, 1.63994318e-01, 1.73907322e-01, 6.61672535e-01,\n              6.70852824e-01, 1.11140355e-01, 5.77724096e-01, 3.89811607e-02,\n              3.99315884e-01, 2.55017448e-01, 9.87357638e-01, 5.55638777e-01,\n              3.84448143e-01, 6.40550457e-01, 7.13106008e-01, 8.41025155e-01,\n              6.65499708e-01, 1.60916739e-03, 4.43535646e-01, 9.02735401e-01,\n              1.23299636e-01, 2.26386987e-01, 4.57851609e-01, 8.87794303e-01,\n              1.77211201e-01, 2.80797628e-01, 5.91221315e-02, 9.50483947e-01,\n              2.29802501e-01, 5.31096350e-01, 2.57729652e-01, 6.63662135e-01,\n              3.61965524e-01, 8.44517567e-01, 8.67023585e-01, 7.16117296e-01,\n              2.50489094e-01, 4.47780950e-01, 3.84589314e-01, 3.97222626e-01,\n              6.87422074e-01, 7.62776053e-02, 4.77862648e-01, 4.00551982e-01,\n              6.34685743e-01, 5.00038815e-01, 5.86804817e-01, 2.10637468e-01,\n              1.69854932e-02, 6.01010636e-01, 4.64080376e-01, 9.91018724e-01,\n              3.35048195e-02, 8.25746834e-01, 2.33729185e-01, 2.13530748e-01,\n              6.87688649e-01, 5.24570778e-01, 3.93065509e-01, 4.81040308e-01,\n              6.52293466e-01, 5.98678450e-01, 4.21700894e-01, 2.46348017e-01,\n              9.57833351e-01, 8.92538172e-01, 1.28917994e-01, 1.57983787e-01,\n              5.41264151e-01, 9.17070923e-01, 1.01042543e-02, 8.02370965e-01,\n              6.93408297e-01, 8.21100899e-02, 2.54672674e-01, 6.71964854e-01,\n              4.48578606e-01, 4.73814085e-01, 1.88020569e-02, 5.03262015e-01,\n              4.75631224e-01, 7.43491153e-01, 8.95427062e-01, 7.31047671e-01,\n              3.64495652e-01, 5.52070305e-01, 1.90228081e-01, 8.32029786e-02,\n              4.23611904e-01, 5.41511773e-01, 5.92071341e-01, 1.62855072e-01,\n              8.36422038e-01, 9.23733647e-01, 5.06811724e-01, 6.99752129e-01,\n              4.07947175e-01, 4.22570388e-02, 5.00143005e-01, 9.36552955e-01,\n              3.96727888e-01, 4.42953626e-01, 7.40815406e-01, 9.90559809e-01,\n              7.03251974e-01, 9.42571067e-01, 7.70562129e-01, 7.93346580e-01,\n              5.51975335e-01, 9.35194455e-01, 7.72893506e-01, 2.16760433e-01,\n              2.92989367e-01, 6.92788030e-02, 2.96312345e-01, 3.15628953e-01,\n              8.75070824e-01, 9.91011525e-01, 8.80423256e-01, 5.65389959e-01,\n              3.51074161e-01, 1.55132222e-01, 9.92679109e-01, 7.09211693e-01,\n              4.30984596e-01, 7.41626197e-01, 5.13338170e-01, 8.09844155e-02,\n              7.08580224e-01, 4.97341416e-01, 2.13729825e-01, 6.89586177e-01,\n              8.19151038e-01, 1.64516469e-02, 4.88061550e-01, 6.97065596e-01,\n              1.66018966e-02, 7.97658742e-01, 1.02598654e-02, 5.39268328e-02,\n              6.60571600e-01, 5.58470875e-02, 1.14020403e-01, 7.60540980e-01,\n              8.40558698e-01, 2.23500914e-01, 6.34125007e-01, 6.66051805e-01,\n              8.59342159e-01, 9.28239423e-01, 6.03098383e-01, 7.49974606e-01,\n              5.19838149e-01, 6.19746162e-01, 7.04930064e-01, 2.66724544e-01,\n              7.41345075e-01, 1.04005642e-01, 2.58102385e-01, 2.40319063e-01,\n              8.62602818e-01, 5.85281860e-01, 7.28172216e-01, 5.43913506e-01,\n              5.00099603e-01, 1.58727776e-01, 8.43531347e-01, 4.26297522e-03,\n              9.43126309e-01, 4.76109736e-01, 4.78645536e-01, 9.21961722e-01,\n              1.81374181e-01, 7.72329818e-01, 5.54237874e-01, 6.59275870e-01,\n              8.07345799e-01, 8.21846466e-01, 1.84638674e-01, 3.56846208e-01,\n              5.82072829e-01, 9.08115561e-01, 5.09843473e-01, 4.69470281e-01,\n              2.58347962e-01, 2.18184330e-01, 7.78698112e-01, 8.31311696e-01,\n              1.66835647e-01, 2.31845975e-01, 2.31094550e-01, 9.37173197e-01,\n              1.62826561e-01, 2.00941466e-01, 3.32834622e-01, 2.92217877e-01,\n              1.66708299e-01, 9.14088727e-01, 2.87413501e-01, 8.13907774e-01,\n              8.96523727e-01, 2.12685640e-01, 2.12300710e-01, 3.36365101e-01,\n              3.71719604e-01, 5.17765635e-01, 8.77182418e-01, 3.45931933e-01,\n              7.23417465e-01, 8.88013033e-01, 7.19872993e-01, 5.22428437e-01,\n              8.50445925e-01, 5.74518612e-01, 7.41659327e-01, 8.64296302e-01,\n              9.39158248e-01, 1.57646748e-01, 2.88193874e-01, 1.62711572e-01,\n              6.74150657e-01, 4.90009366e-01, 7.44368879e-01, 6.63966338e-01,\n              2.38205778e-01, 6.72236347e-01, 9.93707155e-01, 3.91164501e-01,\n              9.11812043e-01, 5.22222522e-01, 7.67522836e-02, 2.30927697e-01,\n              1.65585334e-01, 1.01008683e-02, 6.07128942e-01, 8.37653139e-01,\n              5.18074110e-01, 6.13436741e-02, 7.48908517e-01, 8.44587944e-01,\n              3.72004928e-02, 3.24180211e-01, 2.23228375e-01, 6.90672368e-01,\n              6.26740996e-01, 8.72038192e-01, 5.47102494e-05, 2.72645923e-02,\n              1.78694573e-01, 6.34067133e-01, 9.45801637e-01, 4.84214281e-01,\n              3.50091375e-01, 8.14044273e-03, 2.67261975e-01, 2.79359208e-01,\n              3.52727761e-01, 1.86082005e-01, 5.99098115e-02, 9.91499283e-01,\n              7.23031338e-02, 1.44365697e-01, 9.83033619e-01, 8.59704712e-01,\n              2.43989904e-01, 2.79014047e-01, 2.32694491e-01, 4.28107127e-01,\n              4.75267011e-01, 7.13151865e-01, 7.61695925e-01, 4.53411018e-01,\n              5.57494587e-01, 8.56394790e-01, 5.46702872e-01, 8.08013085e-01,\n              5.25276165e-01, 3.16787033e-01, 1.74982097e-01, 6.87589677e-01,\n              8.22973526e-01, 4.93522539e-01, 3.13524289e-01, 3.57629597e-01,\n              6.23182689e-01, 8.60756835e-01, 8.56358724e-01, 7.98786756e-01,\n              4.44985486e-01, 5.81563465e-01, 6.61295671e-01, 3.31897187e-01,\n              5.17666342e-01, 5.56816399e-01, 1.53381602e-01, 9.44037111e-01,\n              7.55039031e-01, 6.82950500e-02, 3.92885464e-01, 5.70356741e-01,\n              1.47105713e-01, 6.40461615e-01, 9.07546810e-01, 3.95748117e-01,\n              7.08978590e-01, 7.66649551e-01, 8.03908586e-01, 2.95409481e-01,\n              2.75453230e-01, 4.28545818e-02, 7.86852286e-01, 3.70903032e-01,\n              6.67957002e-01, 6.92157842e-01, 2.40235685e-01, 3.49727324e-01,\n              7.85687092e-01, 4.39920097e-01, 2.55141809e-01, 3.28274762e-01,\n              7.79877743e-01, 5.86858529e-01, 1.49626934e-01, 8.53102200e-01,\n              5.08537165e-01, 2.30903151e-01, 2.33882819e-01, 4.47937929e-01,\n              3.29827036e-01, 3.26177605e-01, 8.05691880e-01, 6.23928747e-01,\n              1.11935963e-02, 3.64911089e-01, 6.90582709e-01, 4.95798900e-01,\n              3.22337983e-01, 6.41622978e-01, 8.11962227e-01, 4.54823225e-01,\n              3.17244402e-01, 2.28110212e-01, 3.32974739e-01, 7.61891966e-01,\n              4.27421293e-01, 4.50261989e-01, 1.10066014e-01, 4.12528822e-01,\n              5.50832992e-02, 2.36841008e-01, 2.77976179e-01, 5.02613018e-01,\n              4.30625418e-01, 8.72578478e-01, 2.75290111e-01, 3.25968280e-01,\n              8.60489107e-01, 6.20110334e-01, 1.96606555e-02, 8.88611818e-01,\n              7.66192362e-01, 7.28303762e-01, 1.53096042e-02, 7.96169578e-01,\n              3.78956608e-01, 1.16357234e-01, 1.72708716e-03, 4.28434166e-01,\n              6.49287345e-01, 5.94015493e-01, 1.37139550e-01, 3.37396393e-01,\n              3.76797731e-01, 2.46531175e-01, 3.59217569e-01, 3.32431823e-01,\n              2.35673225e-01, 1.81459682e-01, 6.32159936e-01, 7.10893143e-01,\n              3.35377465e-01, 7.40958094e-01, 9.75114998e-01, 3.92634458e-02,\n              7.56794813e-01, 5.63981373e-01, 9.57370198e-01, 5.54630589e-01,\n              1.01666587e-01, 8.83714574e-01, 8.49326784e-01, 8.74323404e-01,\n              3.42114545e-01, 1.38123258e-01, 9.76777039e-01, 7.84675202e-01,\n              2.67681947e-01, 4.41508198e-01, 2.28298569e-01, 1.41911134e-01,\n              5.15992340e-01, 6.18246193e-01, 3.03570605e-01, 7.16886712e-01,\n              2.34638083e-01, 6.29633198e-01, 4.11325530e-02, 6.49935413e-01,\n              9.08952682e-01, 3.79870674e-01, 7.19537953e-01, 6.30149459e-01,\n              9.96934461e-01, 3.25932300e-01, 4.29409514e-01, 3.49443453e-01,\n              4.96477430e-01, 6.38040642e-02, 8.63728248e-01, 2.03345607e-01,\n              6.66124496e-01, 2.28536821e-03, 4.41753858e-01, 3.70602489e-01,\n              8.31062348e-01, 5.18785816e-01, 8.08467177e-01, 7.22646795e-01,\n              1.80256851e-01, 6.63708554e-01, 5.10854664e-01, 3.44948833e-01,\n              7.48095948e-01, 3.48805902e-02, 7.56101709e-01, 4.93561341e-01,\n              9.01580305e-01, 3.21674214e-01, 1.15428310e-01, 2.52575565e-01,\n              8.56924364e-01, 8.50107924e-01, 1.46795173e-01, 5.80563739e-01,\n              2.39469795e-01, 5.53252533e-01, 8.25317263e-01, 4.35487389e-01,\n              2.51391963e-01, 4.88271811e-01, 2.10445994e-02, 2.98145236e-01,\n              9.97142928e-01, 7.51129195e-01, 3.63316024e-01, 4.29524335e-01,\n              5.19129237e-01, 5.22474526e-01, 7.47133273e-01, 5.34004567e-01,\n              2.87101635e-01, 2.15860130e-01, 1.37419887e-02, 6.30811290e-01,\n              5.59968634e-01, 8.77796865e-01, 2.54951433e-01, 6.54945616e-02,\n              8.72965940e-01, 6.59737306e-01, 2.16938282e-01, 6.53888526e-01,\n              5.74891999e-01, 3.33233895e-02, 2.05102520e-01, 2.83490419e-01,\n              7.25903286e-01, 2.19234158e-01, 5.18481635e-01, 9.75152896e-01,\n              8.87112441e-01, 3.31654240e-01, 4.87734370e-01, 3.64721439e-01,\n              8.70377012e-01, 5.19183691e-02, 8.07755951e-01, 8.65743953e-01,\n              7.96978530e-02, 7.78290474e-01, 7.77671609e-01, 5.13933979e-01,\n              5.74242238e-01, 9.87465181e-01, 7.93410252e-02, 7.42202879e-02,\n              1.81851182e-01, 1.80740874e-01, 2.73433150e-01, 4.31853906e-01,\n              6.44668375e-01, 6.60301480e-02, 6.32466238e-01, 3.84588036e-01,\n              7.80376236e-01, 4.80706489e-01, 3.33032984e-01, 7.85981723e-01,\n              7.03296341e-01, 4.48238907e-01, 5.03119544e-01, 2.55377698e-01,\n              5.52021131e-01, 4.98532501e-01, 8.86992974e-01, 5.34523504e-01,\n              9.89104075e-01, 9.86317194e-01, 5.07567409e-01, 9.74375838e-02,\n              1.47029819e-02, 3.51160689e-01, 8.01747092e-01, 3.68667647e-01,\n              5.42131518e-01, 2.36866283e-01, 6.12339279e-01, 1.11711786e-01,\n              8.75163735e-01, 2.77852950e-02, 4.66438755e-01, 9.84435429e-01,\n              9.96669525e-01, 2.24672935e-01, 3.15788415e-01, 6.78465930e-01,\n              9.59563146e-01, 7.18522862e-01, 7.91405128e-01, 5.30154314e-01,\n              7.72281352e-02, 8.48412815e-01, 5.90104927e-01, 5.95687422e-01,\n              4.16774588e-01, 4.04130099e-01, 2.91840817e-01, 7.31363995e-01,\n              7.08398574e-01, 7.94765616e-01, 9.10653042e-01, 1.86329118e-01,\n              2.60648138e-01, 5.37437018e-03, 2.50081158e-01, 9.91603356e-01,\n              1.66859451e-01, 4.35421121e-01, 8.03111060e-01, 7.76748623e-01,\n              4.62781621e-02, 4.83846537e-01, 5.94711151e-01, 5.07094866e-01,\n              1.87060651e-01, 3.40762355e-02, 7.31068629e-01, 6.53454192e-01,\n              7.87958132e-01, 3.27316468e-01, 6.23749456e-01, 9.39289966e-01,\n              8.54169258e-01, 7.17181721e-01, 8.05159629e-01, 6.35150892e-01,\n              9.07725436e-01, 7.33633613e-01, 5.85052969e-01, 1.04125905e-01,\n              2.93668982e-01, 5.31512437e-02, 2.35658676e-01, 6.72421457e-01,\n              6.10413710e-01, 9.37100280e-02, 7.40395119e-01, 4.57722868e-01,\n              4.38796683e-01, 1.51185142e-01, 5.80332722e-01, 7.18135557e-01,\n              3.44528301e-02, 9.65484719e-01, 3.36208263e-01, 7.45475839e-01,\n              3.81228766e-01, 6.00986713e-01, 1.30587073e-01, 3.78950571e-01,\n              6.81607419e-01, 9.80299649e-01, 6.56022024e-01, 8.64847009e-01,\n              4.75463806e-01, 2.12647209e-02, 7.62431500e-01, 7.23636218e-01,\n              7.53293327e-01, 2.22422705e-01, 6.86103086e-01, 4.09027709e-01,\n              7.21432219e-01, 1.86693295e-01, 9.48797071e-01, 7.08652436e-01,\n              4.02012987e-01, 6.48978345e-01, 2.31823024e-01, 8.32958843e-01,\n              7.71721849e-01, 1.13099238e-01, 7.91662421e-01, 6.16493341e-01,\n              3.13286662e-01, 2.91734935e-01, 7.85331773e-01, 2.39489240e-01,\n              2.49282189e-01, 2.62427987e-01, 1.02434667e-01, 5.94658507e-01,\n              9.13395424e-01, 3.29839314e-01, 8.16623676e-01, 6.78517670e-02,\n              7.94714861e-01, 4.90557019e-01, 3.80126469e-01, 9.48026865e-01,\n              4.62756204e-01, 3.48403579e-01, 3.44680033e-01, 2.06011002e-01,\n              5.65068187e-01, 2.50303433e-01, 5.09143517e-01, 3.31773147e-01,\n              4.79659997e-01, 8.02624328e-01, 4.88470402e-01, 8.93185014e-01,\n              9.64463183e-01, 2.94033822e-01, 6.44717498e-01, 3.20372746e-01,\n              5.70278782e-01, 7.77211710e-01, 5.82834485e-01, 2.18246727e-01,\n              7.99975256e-01, 5.51587468e-01, 6.30428565e-01, 7.02069819e-01,\n              8.32659239e-01, 5.88065088e-01, 6.39618634e-01, 9.44055359e-01,\n              6.28995348e-01, 9.51879982e-01, 1.08628182e-01, 6.41020645e-01,\n              6.67661401e-01, 6.32023910e-01, 5.87776561e-01, 9.38422491e-02,\n              5.78209287e-01, 2.77090813e-01, 8.36164004e-01, 9.31178465e-01,\n              2.38914428e-01, 4.35797381e-01, 5.96125745e-01, 8.96446171e-01,\n              6.16528769e-01, 4.80959632e-01, 6.10362211e-01, 3.20068766e-01,\n              9.91134955e-02, 3.74930417e-01, 8.24156402e-01, 8.59086992e-01,\n              2.03006351e-01, 7.61886206e-01, 2.45726782e-01, 2.00207230e-01,\n              5.61228930e-01, 7.92928405e-01, 4.64175603e-01, 8.96226317e-01,\n              5.28923754e-02, 3.97685905e-01, 9.12124779e-01, 8.34556975e-01,\n              5.10691981e-01, 7.91356188e-01, 3.51622657e-01, 6.25508935e-01,\n              8.79816961e-02, 8.78140811e-01, 8.41582311e-01, 2.82977234e-01,\n              2.12336420e-01, 4.27487201e-01, 3.33879802e-02, 9.15327672e-01,\n              3.30391718e-01, 3.72509840e-01, 3.33031376e-01, 2.46062725e-01,\n              4.68500384e-01, 4.91258375e-01, 3.42675317e-01, 8.67472563e-01,\n              7.41786929e-01, 1.04115475e-01, 4.29516374e-01, 7.81880415e-01,\n              9.15858612e-01, 1.83834763e-01, 8.66095844e-01, 4.63889747e-01,\n              1.46306275e-01, 4.94546137e-01, 3.81167735e-01, 5.43413997e-01,\n              5.87657787e-01, 7.35876088e-01, 1.32005650e-01, 1.30556663e-01,\n              3.25705785e-02, 7.48798382e-01, 3.96099964e-01, 5.91181587e-01,\n              9.93310529e-01, 3.82380220e-01, 3.52499886e-03, 1.78996138e-01,\n              4.39794138e-01, 5.15073559e-01, 3.95596060e-01, 4.26101838e-01,\n              8.20233351e-01, 9.80716447e-01, 2.78093352e-01, 7.81870553e-01,\n              1.83735010e-01, 5.43810126e-01, 1.55157784e-01, 3.60658174e-01,\n              6.14004221e-01, 2.66354998e-01, 4.74177220e-01, 7.70306160e-01,\n              1.42165454e-01, 6.26915003e-01, 7.67558189e-01, 5.31156401e-01,\n              1.84324574e-01, 8.08729265e-01, 3.54053510e-01, 4.24510547e-01,\n              5.79191556e-02, 9.83924116e-01, 9.49330693e-01, 3.18444490e-02,\n              2.56709241e-01, 9.09963737e-01, 5.11684317e-01, 7.69794007e-01,\n              4.37440176e-02, 9.76432408e-01, 8.65327163e-01, 3.83615406e-01,\n              2.72900493e-01, 3.41225039e-02, 7.70041353e-01, 2.69809850e-01,\n              5.25498258e-01, 2.63812098e-01, 4.92397538e-01, 6.67941129e-01,\n              5.87327955e-01, 2.08816002e-02, 4.64038911e-01, 6.59693968e-01,\n              9.76860730e-01, 1.97241727e-01, 2.01787156e-01, 7.01567695e-01,\n              1.43038203e-01, 8.48288754e-01, 8.05801925e-01, 3.84113852e-01,\n              8.57824160e-01, 3.21511738e-01, 4.08839275e-01, 3.89222615e-01,\n              3.70632791e-01, 4.17940458e-01, 8.59901157e-02, 5.89920497e-01,\n              9.88846286e-01, 5.31072267e-01, 2.17798378e-01, 3.50659560e-02,\n              3.52990394e-01, 5.11823985e-02, 7.27056443e-01, 6.66207445e-01,\n              7.77404420e-01, 2.91806252e-01, 4.17718558e-01, 2.85241744e-01,\n              3.04882712e-01, 8.85543746e-01, 6.59242799e-01, 2.13143816e-01,\n              9.21657929e-01, 5.77600754e-01, 2.31913897e-01, 1.94667619e-01,\n              4.63491797e-01, 3.54414194e-01, 7.14832523e-01, 5.87998712e-01,\n              1.28156285e-01, 7.48179910e-01, 2.66196504e-01, 8.18796901e-01,\n              5.71715115e-01, 5.20217218e-01, 8.17404533e-01, 6.45762217e-01,\n              4.14980089e-01, 9.80922319e-01, 1.32509408e-02, 7.99069686e-01,\n              9.23361212e-01, 2.53288797e-01, 4.18268053e-01, 9.24369811e-01,\n              2.99107643e-01, 9.52433276e-01, 3.82865650e-01, 1.97439476e-01,\n              3.29486367e-01, 6.11399542e-01, 1.94277123e-01, 7.06677444e-02,\n              1.12629656e-01, 5.58399554e-01, 9.46561887e-01, 8.36125064e-02,\n              8.56331585e-01, 3.56209601e-02, 7.47315327e-01, 7.74887591e-01,\n              1.96605227e-01, 2.75834713e-01, 9.42914825e-01, 1.05068685e-04,\n              7.98269630e-01, 1.15385079e-01, 5.66799349e-01, 2.93488795e-01,\n              8.01432812e-03, 3.99429388e-02, 3.73702819e-01, 6.98713915e-01,\n              6.45872951e-01, 5.34551075e-01, 7.54753231e-01, 5.98990569e-01,\n              5.23309346e-01, 9.24878769e-02, 2.21786817e-01, 9.11389024e-01,\n              2.04241732e-01, 1.50319202e-01, 4.81630180e-01, 9.69503465e-01,\n              2.91814085e-01, 6.90641559e-02, 5.10581216e-01, 1.86954165e-01,\n              8.01935765e-01, 9.76885038e-01, 3.36672582e-01, 6.49218200e-01,\n              9.37424473e-01, 2.01165200e-01, 2.00742657e-01, 5.30833733e-01,\n              9.39879262e-01, 2.14617464e-01, 2.48914685e-01, 6.27990640e-03,\n              5.37302480e-02, 4.95896171e-01, 3.34360039e-01, 3.73960341e-01,\n              6.73049670e-01, 6.15438517e-01, 3.41705792e-01, 6.94892416e-01,\n              4.43725778e-01, 8.93562701e-01, 4.66535525e-01, 4.83574876e-01,\n              4.89217527e-01, 8.42463983e-01, 4.22752315e-01, 8.20780772e-01,\n              5.70232354e-01, 2.75815993e-01, 8.85591407e-01, 2.35517555e-02,\n              5.78316534e-01, 6.90747404e-01, 5.88002245e-01, 8.33927180e-01,\n              4.42729951e-01, 1.30006411e-01, 2.52938273e-01, 9.40906515e-02,\n              8.73106607e-01, 4.79799732e-01, 9.73881926e-01, 9.78634223e-01,\n              6.25697373e-01, 5.55752613e-01, 6.00014478e-02, 6.39021244e-01,\n              9.83669805e-01, 1.80401760e-01, 2.43392680e-01, 6.32052723e-01,\n              1.80936193e-02, 5.60048326e-02, 6.65702269e-01, 9.28225330e-02,\n              4.09668568e-01, 7.39020083e-01, 3.19446825e-01, 5.68522700e-01,\n              2.94322495e-02, 2.49039583e-01, 4.15465513e-01, 5.14017263e-02,\n              6.40395014e-01, 4.47106432e-01, 1.88757243e-01, 5.68179328e-01,\n              4.64649729e-01, 2.65376944e-01, 4.33174009e-01, 9.13292105e-01,\n              2.36515886e-01, 9.42658678e-01, 9.43924687e-01, 3.51009932e-01,\n              9.05130458e-01, 4.37464947e-01, 4.15995826e-01, 1.38521062e-01,\n              7.63793363e-01, 9.51259274e-01, 4.58695267e-01, 1.66155465e-01,\n              5.43060912e-01, 5.35066606e-01, 2.47246196e-02, 7.62012923e-02,\n              5.02605129e-01, 4.70758305e-01, 4.96003543e-01, 6.11093934e-01,\n              4.10847956e-01, 9.89894512e-01, 5.49521806e-02, 7.79717966e-01,\n              4.39697920e-01, 9.48327517e-01, 1.74681990e-01, 4.86895430e-02]),\n       <pyvinecopulib.Vinecop>\n       ** Tree: 0\n       4,1 <-> Gaussian, parameters = 0.5\n       3,1 <-> Clayton, parameters = 3\n       2,1 <-> Student, parameters = 0.4\n         4\n       ** Tree: 1\n       4,2 | 1 <-> Independence\n       3,2 | 1 <-> Gaussian, parameters = 0.5\n       ** Tree: 2\n       4,3 | 2,1 <-> Gaussian, parameters = 0], dtype=object)",
     "output_type": "error",
     "traceback": [
      "\u001b[0;31m---------------------------------------------------------------------------\u001b[0m",
      "\u001b[0;31mTypeError\u001b[0m                                 Traceback (most recent call last)",
      "\u001b[1;32m/Users/jasperchong/PycharmProjects/Statistical Arbitrage/Copulas pair trading/examples/vine_copulas.ipynb Cell 55\u001b[0m line \u001b[0;36m<cell line: 1>\u001b[0;34m()\u001b[0m\n\u001b[0;32m----> <a href='vscode-notebook-cell:/Users/jasperchong/PycharmProjects/Statistical%20Arbitrage/Copulas%20pair%20trading/examples/vine_copulas.ipynb#Y105sZmlsZQ%3D%3D?line=0'>1</a>\u001b[0m pv\u001b[39m.\u001b[39;49mBicop(data\u001b[39m=\u001b[39;49mnp\u001b[39m.\u001b[39;49marray([S2, cop])\u001b[39m.\u001b[39;49mT)\n",
      "\u001b[0;31mTypeError\u001b[0m: __init__(): incompatible constructor arguments. The following argument types are supported:\n    1. pyvinecopulib.Bicop(family: pyvinecopulib.BicopFamily = <BicopFamily.indep: 0>, rotation: int = 0, parameters: numpy.ndarray[numpy.float64[m, n]] = array([], shape=(0, 0), dtype=float64), var_types: List[str] = ['c', 'c'])\n    2. pyvinecopulib.Bicop(data: numpy.ndarray[numpy.float64[m, 2]], controls: pyvinecopulib.FitControlsBicop = FitControlsBicop(), var_types: List[str] = ['c', 'c'])\n    3. pyvinecopulib.Bicop(filename: str)\n\nInvoked with: kwargs: data=array([array([2.83432611e-02, 8.07563934e-01, 3.73598356e-01, 4.73341202e-01,\n              2.99691405e-01, 1.63994318e-01, 1.73907322e-01, 6.61672535e-01,\n              6.70852824e-01, 1.11140355e-01, 5.77724096e-01, 3.89811607e-02,\n              3.99315884e-01, 2.55017448e-01, 9.87357638e-01, 5.55638777e-01,\n              3.84448143e-01, 6.40550457e-01, 7.13106008e-01, 8.41025155e-01,\n              6.65499708e-01, 1.60916739e-03, 4.43535646e-01, 9.02735401e-01,\n              1.23299636e-01, 2.26386987e-01, 4.57851609e-01, 8.87794303e-01,\n              1.77211201e-01, 2.80797628e-01, 5.91221315e-02, 9.50483947e-01,\n              2.29802501e-01, 5.31096350e-01, 2.57729652e-01, 6.63662135e-01,\n              3.61965524e-01, 8.44517567e-01, 8.67023585e-01, 7.16117296e-01,\n              2.50489094e-01, 4.47780950e-01, 3.84589314e-01, 3.97222626e-01,\n              6.87422074e-01, 7.62776053e-02, 4.77862648e-01, 4.00551982e-01,\n              6.34685743e-01, 5.00038815e-01, 5.86804817e-01, 2.10637468e-01,\n              1.69854932e-02, 6.01010636e-01, 4.64080376e-01, 9.91018724e-01,\n              3.35048195e-02, 8.25746834e-01, 2.33729185e-01, 2.13530748e-01,\n              6.87688649e-01, 5.24570778e-01, 3.93065509e-01, 4.81040308e-01,\n              6.52293466e-01, 5.98678450e-01, 4.21700894e-01, 2.46348017e-01,\n              9.57833351e-01, 8.92538172e-01, 1.28917994e-01, 1.57983787e-01,\n              5.41264151e-01, 9.17070923e-01, 1.01042543e-02, 8.02370965e-01,\n              6.93408297e-01, 8.21100899e-02, 2.54672674e-01, 6.71964854e-01,\n              4.48578606e-01, 4.73814085e-01, 1.88020569e-02, 5.03262015e-01,\n              4.75631224e-01, 7.43491153e-01, 8.95427062e-01, 7.31047671e-01,\n              3.64495652e-01, 5.52070305e-01, 1.90228081e-01, 8.32029786e-02,\n              4.23611904e-01, 5.41511773e-01, 5.92071341e-01, 1.62855072e-01,\n              8.36422038e-01, 9.23733647e-01, 5.06811724e-01, 6.99752129e-01,\n              4.07947175e-01, 4.22570388e-02, 5.00143005e-01, 9.36552955e-01,\n              3.96727888e-01, 4.42953626e-01, 7.40815406e-01, 9.90559809e-01,\n              7.03251974e-01, 9.42571067e-01, 7.70562129e-01, 7.93346580e-01,\n              5.51975335e-01, 9.35194455e-01, 7.72893506e-01, 2.16760433e-01,\n              2.92989367e-01, 6.92788030e-02, 2.96312345e-01, 3.15628953e-01,\n              8.75070824e-01, 9.91011525e-01, 8.80423256e-01, 5.65389959e-01,\n              3.51074161e-01, 1.55132222e-01, 9.92679109e-01, 7.09211693e-01,\n              4.30984596e-01, 7.41626197e-01, 5.13338170e-01, 8.09844155e-02,\n              7.08580224e-01, 4.97341416e-01, 2.13729825e-01, 6.89586177e-01,\n              8.19151038e-01, 1.64516469e-02, 4.88061550e-01, 6.97065596e-01,\n              1.66018966e-02, 7.97658742e-01, 1.02598654e-02, 5.39268328e-02,\n              6.60571600e-01, 5.58470875e-02, 1.14020403e-01, 7.60540980e-01,\n              8.40558698e-01, 2.23500914e-01, 6.34125007e-01, 6.66051805e-01,\n              8.59342159e-01, 9.28239423e-01, 6.03098383e-01, 7.49974606e-01,\n              5.19838149e-01, 6.19746162e-01, 7.04930064e-01, 2.66724544e-01,\n              7.41345075e-01, 1.04005642e-01, 2.58102385e-01, 2.40319063e-01,\n              8.62602818e-01, 5.85281860e-01, 7.28172216e-01, 5.43913506e-01,\n              5.00099603e-01, 1.58727776e-01, 8.43531347e-01, 4.26297522e-03,\n              9.43126309e-01, 4.76109736e-01, 4.78645536e-01, 9.21961722e-01,\n              1.81374181e-01, 7.72329818e-01, 5.54237874e-01, 6.59275870e-01,\n              8.07345799e-01, 8.21846466e-01, 1.84638674e-01, 3.56846208e-01,\n              5.82072829e-01, 9.08115561e-01, 5.09843473e-01, 4.69470281e-01,\n              2.58347962e-01, 2.18184330e-01, 7.78698112e-01, 8.31311696e-01,\n              1.66835647e-01, 2.31845975e-01, 2.31094550e-01, 9.37173197e-01,\n              1.62826561e-01, 2.00941466e-01, 3.32834622e-01, 2.92217877e-01,\n              1.66708299e-01, 9.14088727e-01, 2.87413501e-01, 8.13907774e-01,\n              8.96523727e-01, 2.12685640e-01, 2.12300710e-01, 3.36365101e-01,\n              3.71719604e-01, 5.17765635e-01, 8.77182418e-01, 3.45931933e-01,\n              7.23417465e-01, 8.88013033e-01, 7.19872993e-01, 5.22428437e-01,\n              8.50445925e-01, 5.74518612e-01, 7.41659327e-01, 8.64296302e-01,\n              9.39158248e-01, 1.57646748e-01, 2.88193874e-01, 1.62711572e-01,\n              6.74150657e-01, 4.90009366e-01, 7.44368879e-01, 6.63966338e-01,\n              2.38205778e-01, 6.72236347e-01, 9.93707155e-01, 3.91164501e-01,\n              9.11812043e-01, 5.22222522e-01, 7.67522836e-02, 2.30927697e-01,\n              1.65585334e-01, 1.01008683e-02, 6.07128942e-01, 8.37653139e-01,\n              5.18074110e-01, 6.13436741e-02, 7.48908517e-01, 8.44587944e-01,\n              3.72004928e-02, 3.24180211e-01, 2.23228375e-01, 6.90672368e-01,\n              6.26740996e-01, 8.72038192e-01, 5.47102494e-05, 2.72645923e-02,\n              1.78694573e-01, 6.34067133e-01, 9.45801637e-01, 4.84214281e-01,\n              3.50091375e-01, 8.14044273e-03, 2.67261975e-01, 2.79359208e-01,\n              3.52727761e-01, 1.86082005e-01, 5.99098115e-02, 9.91499283e-01,\n              7.23031338e-02, 1.44365697e-01, 9.83033619e-01, 8.59704712e-01,\n              2.43989904e-01, 2.79014047e-01, 2.32694491e-01, 4.28107127e-01,\n              4.75267011e-01, 7.13151865e-01, 7.61695925e-01, 4.53411018e-01,\n              5.57494587e-01, 8.56394790e-01, 5.46702872e-01, 8.08013085e-01,\n              5.25276165e-01, 3.16787033e-01, 1.74982097e-01, 6.87589677e-01,\n              8.22973526e-01, 4.93522539e-01, 3.13524289e-01, 3.57629597e-01,\n              6.23182689e-01, 8.60756835e-01, 8.56358724e-01, 7.98786756e-01,\n              4.44985486e-01, 5.81563465e-01, 6.61295671e-01, 3.31897187e-01,\n              5.17666342e-01, 5.56816399e-01, 1.53381602e-01, 9.44037111e-01,\n              7.55039031e-01, 6.82950500e-02, 3.92885464e-01, 5.70356741e-01,\n              1.47105713e-01, 6.40461615e-01, 9.07546810e-01, 3.95748117e-01,\n              7.08978590e-01, 7.66649551e-01, 8.03908586e-01, 2.95409481e-01,\n              2.75453230e-01, 4.28545818e-02, 7.86852286e-01, 3.70903032e-01,\n              6.67957002e-01, 6.92157842e-01, 2.40235685e-01, 3.49727324e-01,\n              7.85687092e-01, 4.39920097e-01, 2.55141809e-01, 3.28274762e-01,\n              7.79877743e-01, 5.86858529e-01, 1.49626934e-01, 8.53102200e-01,\n              5.08537165e-01, 2.30903151e-01, 2.33882819e-01, 4.47937929e-01,\n              3.29827036e-01, 3.26177605e-01, 8.05691880e-01, 6.23928747e-01,\n              1.11935963e-02, 3.64911089e-01, 6.90582709e-01, 4.95798900e-01,\n              3.22337983e-01, 6.41622978e-01, 8.11962227e-01, 4.54823225e-01,\n              3.17244402e-01, 2.28110212e-01, 3.32974739e-01, 7.61891966e-01,\n              4.27421293e-01, 4.50261989e-01, 1.10066014e-01, 4.12528822e-01,\n              5.50832992e-02, 2.36841008e-01, 2.77976179e-01, 5.02613018e-01,\n              4.30625418e-01, 8.72578478e-01, 2.75290111e-01, 3.25968280e-01,\n              8.60489107e-01, 6.20110334e-01, 1.96606555e-02, 8.88611818e-01,\n              7.66192362e-01, 7.28303762e-01, 1.53096042e-02, 7.96169578e-01,\n              3.78956608e-01, 1.16357234e-01, 1.72708716e-03, 4.28434166e-01,\n              6.49287345e-01, 5.94015493e-01, 1.37139550e-01, 3.37396393e-01,\n              3.76797731e-01, 2.46531175e-01, 3.59217569e-01, 3.32431823e-01,\n              2.35673225e-01, 1.81459682e-01, 6.32159936e-01, 7.10893143e-01,\n              3.35377465e-01, 7.40958094e-01, 9.75114998e-01, 3.92634458e-02,\n              7.56794813e-01, 5.63981373e-01, 9.57370198e-01, 5.54630589e-01,\n              1.01666587e-01, 8.83714574e-01, 8.49326784e-01, 8.74323404e-01,\n              3.42114545e-01, 1.38123258e-01, 9.76777039e-01, 7.84675202e-01,\n              2.67681947e-01, 4.41508198e-01, 2.28298569e-01, 1.41911134e-01,\n              5.15992340e-01, 6.18246193e-01, 3.03570605e-01, 7.16886712e-01,\n              2.34638083e-01, 6.29633198e-01, 4.11325530e-02, 6.49935413e-01,\n              9.08952682e-01, 3.79870674e-01, 7.19537953e-01, 6.30149459e-01,\n              9.96934461e-01, 3.25932300e-01, 4.29409514e-01, 3.49443453e-01,\n              4.96477430e-01, 6.38040642e-02, 8.63728248e-01, 2.03345607e-01,\n              6.66124496e-01, 2.28536821e-03, 4.41753858e-01, 3.70602489e-01,\n              8.31062348e-01, 5.18785816e-01, 8.08467177e-01, 7.22646795e-01,\n              1.80256851e-01, 6.63708554e-01, 5.10854664e-01, 3.44948833e-01,\n              7.48095948e-01, 3.48805902e-02, 7.56101709e-01, 4.93561341e-01,\n              9.01580305e-01, 3.21674214e-01, 1.15428310e-01, 2.52575565e-01,\n              8.56924364e-01, 8.50107924e-01, 1.46795173e-01, 5.80563739e-01,\n              2.39469795e-01, 5.53252533e-01, 8.25317263e-01, 4.35487389e-01,\n              2.51391963e-01, 4.88271811e-01, 2.10445994e-02, 2.98145236e-01,\n              9.97142928e-01, 7.51129195e-01, 3.63316024e-01, 4.29524335e-01,\n              5.19129237e-01, 5.22474526e-01, 7.47133273e-01, 5.34004567e-01,\n              2.87101635e-01, 2.15860130e-01, 1.37419887e-02, 6.30811290e-01,\n              5.59968634e-01, 8.77796865e-01, 2.54951433e-01, 6.54945616e-02,\n              8.72965940e-01, 6.59737306e-01, 2.16938282e-01, 6.53888526e-01,\n              5.74891999e-01, 3.33233895e-02, 2.05102520e-01, 2.83490419e-01,\n              7.25903286e-01, 2.19234158e-01, 5.18481635e-01, 9.75152896e-01,\n              8.87112441e-01, 3.31654240e-01, 4.87734370e-01, 3.64721439e-01,\n              8.70377012e-01, 5.19183691e-02, 8.07755951e-01, 8.65743953e-01,\n              7.96978530e-02, 7.78290474e-01, 7.77671609e-01, 5.13933979e-01,\n              5.74242238e-01, 9.87465181e-01, 7.93410252e-02, 7.42202879e-02,\n              1.81851182e-01, 1.80740874e-01, 2.73433150e-01, 4.31853906e-01,\n              6.44668375e-01, 6.60301480e-02, 6.32466238e-01, 3.84588036e-01,\n              7.80376236e-01, 4.80706489e-01, 3.33032984e-01, 7.85981723e-01,\n              7.03296341e-01, 4.48238907e-01, 5.03119544e-01, 2.55377698e-01,\n              5.52021131e-01, 4.98532501e-01, 8.86992974e-01, 5.34523504e-01,\n              9.89104075e-01, 9.86317194e-01, 5.07567409e-01, 9.74375838e-02,\n              1.47029819e-02, 3.51160689e-01, 8.01747092e-01, 3.68667647e-01,\n              5.42131518e-01, 2.36866283e-01, 6.12339279e-01, 1.11711786e-01,\n              8.75163735e-01, 2.77852950e-02, 4.66438755e-01, 9.84435429e-01,\n              9.96669525e-01, 2.24672935e-01, 3.15788415e-01, 6.78465930e-01,\n              9.59563146e-01, 7.18522862e-01, 7.91405128e-01, 5.30154314e-01,\n              7.72281352e-02, 8.48412815e-01, 5.90104927e-01, 5.95687422e-01,\n              4.16774588e-01, 4.04130099e-01, 2.91840817e-01, 7.31363995e-01,\n              7.08398574e-01, 7.94765616e-01, 9.10653042e-01, 1.86329118e-01,\n              2.60648138e-01, 5.37437018e-03, 2.50081158e-01, 9.91603356e-01,\n              1.66859451e-01, 4.35421121e-01, 8.03111060e-01, 7.76748623e-01,\n              4.62781621e-02, 4.83846537e-01, 5.94711151e-01, 5.07094866e-01,\n              1.87060651e-01, 3.40762355e-02, 7.31068629e-01, 6.53454192e-01,\n              7.87958132e-01, 3.27316468e-01, 6.23749456e-01, 9.39289966e-01,\n              8.54169258e-01, 7.17181721e-01, 8.05159629e-01, 6.35150892e-01,\n              9.07725436e-01, 7.33633613e-01, 5.85052969e-01, 1.04125905e-01,\n              2.93668982e-01, 5.31512437e-02, 2.35658676e-01, 6.72421457e-01,\n              6.10413710e-01, 9.37100280e-02, 7.40395119e-01, 4.57722868e-01,\n              4.38796683e-01, 1.51185142e-01, 5.80332722e-01, 7.18135557e-01,\n              3.44528301e-02, 9.65484719e-01, 3.36208263e-01, 7.45475839e-01,\n              3.81228766e-01, 6.00986713e-01, 1.30587073e-01, 3.78950571e-01,\n              6.81607419e-01, 9.80299649e-01, 6.56022024e-01, 8.64847009e-01,\n              4.75463806e-01, 2.12647209e-02, 7.62431500e-01, 7.23636218e-01,\n              7.53293327e-01, 2.22422705e-01, 6.86103086e-01, 4.09027709e-01,\n              7.21432219e-01, 1.86693295e-01, 9.48797071e-01, 7.08652436e-01,\n              4.02012987e-01, 6.48978345e-01, 2.31823024e-01, 8.32958843e-01,\n              7.71721849e-01, 1.13099238e-01, 7.91662421e-01, 6.16493341e-01,\n              3.13286662e-01, 2.91734935e-01, 7.85331773e-01, 2.39489240e-01,\n              2.49282189e-01, 2.62427987e-01, 1.02434667e-01, 5.94658507e-01,\n              9.13395424e-01, 3.29839314e-01, 8.16623676e-01, 6.78517670e-02,\n              7.94714861e-01, 4.90557019e-01, 3.80126469e-01, 9.48026865e-01,\n              4.62756204e-01, 3.48403579e-01, 3.44680033e-01, 2.06011002e-01,\n              5.65068187e-01, 2.50303433e-01, 5.09143517e-01, 3.31773147e-01,\n              4.79659997e-01, 8.02624328e-01, 4.88470402e-01, 8.93185014e-01,\n              9.64463183e-01, 2.94033822e-01, 6.44717498e-01, 3.20372746e-01,\n              5.70278782e-01, 7.77211710e-01, 5.82834485e-01, 2.18246727e-01,\n              7.99975256e-01, 5.51587468e-01, 6.30428565e-01, 7.02069819e-01,\n              8.32659239e-01, 5.88065088e-01, 6.39618634e-01, 9.44055359e-01,\n              6.28995348e-01, 9.51879982e-01, 1.08628182e-01, 6.41020645e-01,\n              6.67661401e-01, 6.32023910e-01, 5.87776561e-01, 9.38422491e-02,\n              5.78209287e-01, 2.77090813e-01, 8.36164004e-01, 9.31178465e-01,\n              2.38914428e-01, 4.35797381e-01, 5.96125745e-01, 8.96446171e-01,\n              6.16528769e-01, 4.80959632e-01, 6.10362211e-01, 3.20068766e-01,\n              9.91134955e-02, 3.74930417e-01, 8.24156402e-01, 8.59086992e-01,\n              2.03006351e-01, 7.61886206e-01, 2.45726782e-01, 2.00207230e-01,\n              5.61228930e-01, 7.92928405e-01, 4.64175603e-01, 8.96226317e-01,\n              5.28923754e-02, 3.97685905e-01, 9.12124779e-01, 8.34556975e-01,\n              5.10691981e-01, 7.91356188e-01, 3.51622657e-01, 6.25508935e-01,\n              8.79816961e-02, 8.78140811e-01, 8.41582311e-01, 2.82977234e-01,\n              2.12336420e-01, 4.27487201e-01, 3.33879802e-02, 9.15327672e-01,\n              3.30391718e-01, 3.72509840e-01, 3.33031376e-01, 2.46062725e-01,\n              4.68500384e-01, 4.91258375e-01, 3.42675317e-01, 8.67472563e-01,\n              7.41786929e-01, 1.04115475e-01, 4.29516374e-01, 7.81880415e-01,\n              9.15858612e-01, 1.83834763e-01, 8.66095844e-01, 4.63889747e-01,\n              1.46306275e-01, 4.94546137e-01, 3.81167735e-01, 5.43413997e-01,\n              5.87657787e-01, 7.35876088e-01, 1.32005650e-01, 1.30556663e-01,\n              3.25705785e-02, 7.48798382e-01, 3.96099964e-01, 5.91181587e-01,\n              9.93310529e-01, 3.82380220e-01, 3.52499886e-03, 1.78996138e-01,\n              4.39794138e-01, 5.15073559e-01, 3.95596060e-01, 4.26101838e-01,\n              8.20233351e-01, 9.80716447e-01, 2.78093352e-01, 7.81870553e-01,\n              1.83735010e-01, 5.43810126e-01, 1.55157784e-01, 3.60658174e-01,\n              6.14004221e-01, 2.66354998e-01, 4.74177220e-01, 7.70306160e-01,\n              1.42165454e-01, 6.26915003e-01, 7.67558189e-01, 5.31156401e-01,\n              1.84324574e-01, 8.08729265e-01, 3.54053510e-01, 4.24510547e-01,\n              5.79191556e-02, 9.83924116e-01, 9.49330693e-01, 3.18444490e-02,\n              2.56709241e-01, 9.09963737e-01, 5.11684317e-01, 7.69794007e-01,\n              4.37440176e-02, 9.76432408e-01, 8.65327163e-01, 3.83615406e-01,\n              2.72900493e-01, 3.41225039e-02, 7.70041353e-01, 2.69809850e-01,\n              5.25498258e-01, 2.63812098e-01, 4.92397538e-01, 6.67941129e-01,\n              5.87327955e-01, 2.08816002e-02, 4.64038911e-01, 6.59693968e-01,\n              9.76860730e-01, 1.97241727e-01, 2.01787156e-01, 7.01567695e-01,\n              1.43038203e-01, 8.48288754e-01, 8.05801925e-01, 3.84113852e-01,\n              8.57824160e-01, 3.21511738e-01, 4.08839275e-01, 3.89222615e-01,\n              3.70632791e-01, 4.17940458e-01, 8.59901157e-02, 5.89920497e-01,\n              9.88846286e-01, 5.31072267e-01, 2.17798378e-01, 3.50659560e-02,\n              3.52990394e-01, 5.11823985e-02, 7.27056443e-01, 6.66207445e-01,\n              7.77404420e-01, 2.91806252e-01, 4.17718558e-01, 2.85241744e-01,\n              3.04882712e-01, 8.85543746e-01, 6.59242799e-01, 2.13143816e-01,\n              9.21657929e-01, 5.77600754e-01, 2.31913897e-01, 1.94667619e-01,\n              4.63491797e-01, 3.54414194e-01, 7.14832523e-01, 5.87998712e-01,\n              1.28156285e-01, 7.48179910e-01, 2.66196504e-01, 8.18796901e-01,\n              5.71715115e-01, 5.20217218e-01, 8.17404533e-01, 6.45762217e-01,\n              4.14980089e-01, 9.80922319e-01, 1.32509408e-02, 7.99069686e-01,\n              9.23361212e-01, 2.53288797e-01, 4.18268053e-01, 9.24369811e-01,\n              2.99107643e-01, 9.52433276e-01, 3.82865650e-01, 1.97439476e-01,\n              3.29486367e-01, 6.11399542e-01, 1.94277123e-01, 7.06677444e-02,\n              1.12629656e-01, 5.58399554e-01, 9.46561887e-01, 8.36125064e-02,\n              8.56331585e-01, 3.56209601e-02, 7.47315327e-01, 7.74887591e-01,\n              1.96605227e-01, 2.75834713e-01, 9.42914825e-01, 1.05068685e-04,\n              7.98269630e-01, 1.15385079e-01, 5.66799349e-01, 2.93488795e-01,\n              8.01432812e-03, 3.99429388e-02, 3.73702819e-01, 6.98713915e-01,\n              6.45872951e-01, 5.34551075e-01, 7.54753231e-01, 5.98990569e-01,\n              5.23309346e-01, 9.24878769e-02, 2.21786817e-01, 9.11389024e-01,\n              2.04241732e-01, 1.50319202e-01, 4.81630180e-01, 9.69503465e-01,\n              2.91814085e-01, 6.90641559e-02, 5.10581216e-01, 1.86954165e-01,\n              8.01935765e-01, 9.76885038e-01, 3.36672582e-01, 6.49218200e-01,\n              9.37424473e-01, 2.01165200e-01, 2.00742657e-01, 5.30833733e-01,\n              9.39879262e-01, 2.14617464e-01, 2.48914685e-01, 6.27990640e-03,\n              5.37302480e-02, 4.95896171e-01, 3.34360039e-01, 3.73960341e-01,\n              6.73049670e-01, 6.15438517e-01, 3.41705792e-01, 6.94892416e-01,\n              4.43725778e-01, 8.93562701e-01, 4.66535525e-01, 4.83574876e-01,\n              4.89217527e-01, 8.42463983e-01, 4.22752315e-01, 8.20780772e-01,\n              5.70232354e-01, 2.75815993e-01, 8.85591407e-01, 2.35517555e-02,\n              5.78316534e-01, 6.90747404e-01, 5.88002245e-01, 8.33927180e-01,\n              4.42729951e-01, 1.30006411e-01, 2.52938273e-01, 9.40906515e-02,\n              8.73106607e-01, 4.79799732e-01, 9.73881926e-01, 9.78634223e-01,\n              6.25697373e-01, 5.55752613e-01, 6.00014478e-02, 6.39021244e-01,\n              9.83669805e-01, 1.80401760e-01, 2.43392680e-01, 6.32052723e-01,\n              1.80936193e-02, 5.60048326e-02, 6.65702269e-01, 9.28225330e-02,\n              4.09668568e-01, 7.39020083e-01, 3.19446825e-01, 5.68522700e-01,\n              2.94322495e-02, 2.49039583e-01, 4.15465513e-01, 5.14017263e-02,\n              6.40395014e-01, 4.47106432e-01, 1.88757243e-01, 5.68179328e-01,\n              4.64649729e-01, 2.65376944e-01, 4.33174009e-01, 9.13292105e-01,\n              2.36515886e-01, 9.42658678e-01, 9.43924687e-01, 3.51009932e-01,\n              9.05130458e-01, 4.37464947e-01, 4.15995826e-01, 1.38521062e-01,\n              7.63793363e-01, 9.51259274e-01, 4.58695267e-01, 1.66155465e-01,\n              5.43060912e-01, 5.35066606e-01, 2.47246196e-02, 7.62012923e-02,\n              5.02605129e-01, 4.70758305e-01, 4.96003543e-01, 6.11093934e-01,\n              4.10847956e-01, 9.89894512e-01, 5.49521806e-02, 7.79717966e-01,\n              4.39697920e-01, 9.48327517e-01, 1.74681990e-01, 4.86895430e-02]),\n       <pyvinecopulib.Vinecop>\n       ** Tree: 0\n       4,1 <-> Gaussian, parameters = 0.5\n       3,1 <-> Clayton, parameters = 3\n       2,1 <-> Student, parameters = 0.4\n         4\n       ** Tree: 1\n       4,2 | 1 <-> Independence\n       3,2 | 1 <-> Gaussian, parameters = 0.5\n       ** Tree: 2\n       4,3 | 2,1 <-> Gaussian, parameters = 0], dtype=object)"
     ]
    }
   ],
   "source": [
    "pv.Bicop(data=np.array([S2, cop]).T)"
   ]
  },
  {
   "cell_type": "code",
   "execution_count": null,
   "metadata": {},
   "outputs": [],
   "source": [
    "cop2 = vinecop.pair_copulas[0][-1]\n",
    "\n",
    "# can know that it is 3, 4 from getting the last 2 items from the order list\n",
    "S3_S4 = cop2.hfunc2(np.array([S3, S4]).T)\n",
    "S1_S4 = cop0.hfunc2(np.array([S1, S4]).T)"
   ]
  },
  {
   "cell_type": "code",
   "execution_count": null,
   "metadata": {},
   "outputs": [
    {
     "data": {
      "text/plain": [
       "(<pyvinecopulib.Bicop>\n",
       " BB1, parameters = 2.08981\n",
       " 1.08063,\n",
       " <pyvinecopulib.Bicop>\n",
       " BB1, parameters = 2.08981\n",
       " 1.08063)"
      ]
     },
     "execution_count": 457,
     "metadata": {},
     "output_type": "execute_result"
    }
   ],
   "source": [
    "# need to pass in S1 and S3 given S4 into this copula\n",
    "cop3 = vinecop.pair_copulas[1][0]\n",
    "cop3, pv.Bicop(data=np.array([S1_S4, S3_S4]).T)"
   ]
  },
  {
   "cell_type": "code",
   "execution_count": null,
   "metadata": {},
   "outputs": [],
   "source": [
    "def test_funcn():\n",
    "    pass"
   ]
  },
  {
   "cell_type": "code",
   "execution_count": 35,
   "metadata": {},
   "outputs": [
    {
     "name": "stdout",
     "output_type": "stream",
     "text": [
      "calculating 1|4\n",
      "calculating 2|4\n",
      "calculating 3|4\n",
      "          1|4       2|4       3|4\n",
      "0    0.352430  0.043432  0.358484\n",
      "1    0.954065  0.847696  0.873755\n",
      "2    0.604041  0.359507  0.798133\n",
      "3    0.794108  0.502866  0.737537\n",
      "4    0.264422  0.383314  0.241409\n",
      "..        ...       ...       ...\n",
      "995  0.592689  0.816165  0.645020\n",
      "996  0.740628  0.434560  0.462487\n",
      "997  0.618989  0.843196  0.813566\n",
      "998  0.893200  0.184720  0.487628\n",
      "999  0.934638  0.041148  0.486319\n",
      "\n",
      "[1000 rows x 3 columns]\n"
     ]
    }
   ],
   "source": [
    "vinecop = vinecop # pass in the vine copula\n",
    "data = u1 # pass in the dataset\n",
    "tree = 0\n",
    "\n",
    "order = vinecop.order # [1, 2, 3, 4]\n",
    "#order = [\"1|4\", \"2|4\", \"3|4\"]\n",
    "bicopList = vinecop.pair_copulas[tree]\n",
    "\n",
    "# first, find the conditional probability of each of the previous with respect to the last in order\n",
    "center = order[-1]\n",
    "hFrame = pd.DataFrame()\n",
    "\n",
    "for i in range(1, len(order), 1): # done in this order to match the list of copulas, 1|4 first, then 2|4 etc.\n",
    "    print(f\"calculating {order[i-1]}|{center}\")\n",
    "\n",
    "    # get the two columns\n",
    "    S_center = data.T[len(order)-1].T\n",
    "    S_i = data.T[i-1].T\n",
    "\n",
    "    # get the copula\n",
    "    bicop = bicopList[i-1]\n",
    "    h = bicop.hfunc2(np.array([S_i, S_center]).T)\n",
    "    hFrame[f\"{order[i-1]}|{center}\"] = h\n",
    "\n",
    "print(hFrame)\n"
   ]
  },
  {
   "cell_type": "code",
   "execution_count": 36,
   "metadata": {},
   "outputs": [
    {
     "data": {
      "text/plain": [
       "(<pyvinecopulib.Vinecop>\n",
       " ** Tree: 0\n",
       " 2,1 <-> BB1 90°, parameters = 2.98212\n",
       " 2.04269\n",
       " 1,3 <-> BB6 90°, parameters = 1.54273\n",
       " 3.96417\n",
       " ** Tree: 1\n",
       " 2,3 | 1 <-> BB7 90°, parameters = 5.25545\n",
       "  2.3454,\n",
       " <pyvinecopulib.Bicop>\n",
       " BB1, parameters = 2.08981\n",
       " 1.08063)"
      ]
     },
     "execution_count": 36,
     "metadata": {},
     "output_type": "execute_result"
    }
   ],
   "source": [
    "S3_S4 = np.array(hFrame['3|4'])\n",
    "S1_S4 = np.array(hFrame['1|4'])\n",
    "cop3, pv.Bicop(data=np.array([S1_S4, S3_S4]).T)"
   ]
  },
  {
   "cell_type": "markdown",
   "metadata": {},
   "source": [
    "as these are the same, our function works correctly. eventually we can phase out the dataframe with headers as we understand the process better\n",
    "\n",
    "convert to function:"
   ]
  },
  {
   "cell_type": "code",
   "execution_count": 37,
   "metadata": {},
   "outputs": [],
   "source": [
    "def conditional_probs(vinecop, data, tree, out='array'):\n",
    "\n",
    "    order = vinecop.order # [1, 2, 3, 4]\n",
    "    #order = [\"1|4\", \"2|4\", \"3|4\"]\n",
    "    bicopList = vinecop.pair_copulas[tree]\n",
    "\n",
    "    # calculate the number of nodes from the number of edges (by adding 1)\n",
    "    numNodes = len(bicopList)+1\n",
    "\n",
    "    # phasing out order \n",
    "\n",
    "    # first, find the conditional probability of each of the previous with respect to the last in order\n",
    "    center = numNodes\n",
    "    hFrame = pd.DataFrame()\n",
    "\n",
    "    for i in range(1, numNodes, 1): # done in this order to match the list of copulas, 1|4 first, then 2|4 etc.\n",
    "        # if updates:\n",
    "        #     print(f\"calculating {order[i-1]}|{center}\")\n",
    "\n",
    "        # get the two columns\n",
    "        S_center = data.T[numNodes-1].T\n",
    "        S_i = data.T[i-1].T\n",
    "\n",
    "        # get the copula\n",
    "        bicop = bicopList[i-1]\n",
    "        h = bicop.hfunc2(np.array([S_i, S_center]).T)\n",
    "        hFrame[f\"{i-1}|{center}\"] = h\n",
    "    if out == 'array':\n",
    "        hFrame = np.array(hFrame)\n",
    "\n",
    "    return hFrame"
   ]
  },
  {
   "cell_type": "code",
   "execution_count": 38,
   "metadata": {},
   "outputs": [
    {
     "data": {
      "text/plain": [
       "array([[0.35242988, 0.0434319 , 0.35848369],\n",
       "       [0.95406482, 0.8476961 , 0.87375485],\n",
       "       [0.60404091, 0.35950669, 0.79813292],\n",
       "       ...,\n",
       "       [0.61898894, 0.84319631, 0.81356588],\n",
       "       [0.89320029, 0.18471988, 0.48762774],\n",
       "       [0.93463753, 0.04114824, 0.4863192 ]])"
      ]
     },
     "execution_count": 38,
     "metadata": {},
     "output_type": "execute_result"
    }
   ],
   "source": [
    "tree0_cond = conditional_probs(vinecop, u1, 0)\n",
    "tree0_cond"
   ]
  },
  {
   "cell_type": "markdown",
   "metadata": {},
   "source": [
    "now lets use these for tree 1"
   ]
  },
  {
   "cell_type": "code",
   "execution_count": 39,
   "metadata": {},
   "outputs": [
    {
     "data": {
      "text/plain": [
       "array([[0.38851425, 0.0404532 ],\n",
       "       [0.89394049, 0.7162752 ],\n",
       "       [0.29802977, 0.15924577],\n",
       "       ...,\n",
       "       [0.30638036, 0.76886312],\n",
       "       [0.93341158, 0.15164369],\n",
       "       [0.96298697, 0.02649664]])"
      ]
     },
     "execution_count": 39,
     "metadata": {},
     "output_type": "execute_result"
    }
   ],
   "source": [
    "tree1_cond = conditional_probs(vinecop, tree0_cond, 1)\n",
    "tree1_cond"
   ]
  },
  {
   "cell_type": "code",
   "execution_count": 40,
   "metadata": {},
   "outputs": [
    {
     "data": {
      "text/plain": [
       "(<pyvinecopulib.Bicop>\n",
       " Student, parameters = -0.102774\n",
       "   6.59947,\n",
       " <pyvinecopulib.Bicop>\n",
       " Student, parameters = -0.102774\n",
       "   6.59947)"
      ]
     },
     "execution_count": 40,
     "metadata": {},
     "output_type": "execute_result"
    }
   ],
   "source": [
    "cop6 = vinecop.pair_copulas[2][0]\n",
    "\n",
    "cop6, pv.Bicop(data=np.array([tree1_cond.T[0].T, tree1_cond.T[1].T]).T)"
   ]
  },
  {
   "cell_type": "markdown",
   "metadata": {},
   "source": [
    "Therefore, we successfully calculated the final copula\n",
    "\n",
    "now lets try to calculate the final \"mispricing index\""
   ]
  },
  {
   "cell_type": "code",
   "execution_count": 41,
   "metadata": {},
   "outputs": [
    {
     "data": {
      "text/plain": [
       "array([[0.34078552],\n",
       "       [0.91501241],\n",
       "       [0.26313965],\n",
       "       [0.6588905 ],\n",
       "       [0.44055748]])"
      ]
     },
     "execution_count": 41,
     "metadata": {},
     "output_type": "execute_result"
    }
   ],
   "source": [
    "tree2_cond= conditional_probs(vinecop, tree1_cond, 2)\n",
    "tree2_cond[:5]"
   ]
  },
  {
   "cell_type": "code",
   "execution_count": 46,
   "metadata": {},
   "outputs": [
    {
     "data": {
      "text/plain": [
       "3"
      ]
     },
     "execution_count": 46,
     "metadata": {},
     "output_type": "execute_result"
    }
   ],
   "source": [
    "MI = tree2_cond - 0.5"
   ]
  },
  {
   "cell_type": "code",
   "execution_count": 49,
   "metadata": {},
   "outputs": [
    {
     "name": "stdout",
     "output_type": "stream",
     "text": [
      "tree 0 complete\n",
      "tree 1 complete\n",
      "tree 2 complete\n"
     ]
    },
    {
     "data": {
      "text/plain": [
       "array([[0.34078552],\n",
       "       [0.91501241],\n",
       "       [0.26313965],\n",
       "       [0.6588905 ],\n",
       "       [0.44055748]])"
      ]
     },
     "execution_count": 49,
     "metadata": {},
     "output_type": "execute_result"
    }
   ],
   "source": [
    "data = u1\n",
    "for i in range(len(vinecop.pair_copulas)):\n",
    "    data = conditional_probs(vinecop, data, i)\n",
    "    print(f\"tree {i} complete\")\n",
    "data[:5]"
   ]
  },
  {
   "cell_type": "code",
   "execution_count": null,
   "metadata": {},
   "outputs": [],
   "source": []
  },
  {
   "cell_type": "markdown",
   "metadata": {},
   "source": [
    "## plotting the \"mispricing index\" over time"
   ]
  },
  {
   "cell_type": "code",
   "execution_count": 43,
   "metadata": {},
   "outputs": [],
   "source": [
    "import matplotlib.pyplot as plt"
   ]
  },
  {
   "cell_type": "code",
   "execution_count": 44,
   "metadata": {},
   "outputs": [
    {
     "data": {
      "image/png": "[encoded data removed]",
      "text/plain": [
       "<Figure size 1500x500 with 1 Axes>"
      ]
     },
     "metadata": {},
     "output_type": "display_data"
    }
   ],
   "source": [
    "# graphing the returns over time\n",
    "plt.figure(figsize=(15,5))\n",
    "\n",
    "# only start after 30 days because that is when the moving averages \"start\"\n",
    "plt.title(\"Returns over time\")\n",
    "plt.plot(MI, color='black')\n",
    "\n",
    "plt.legend(['Conditional probability of u given v', 'Conditional probability of v given u'])\n",
    "plt.show()"
   ]
  },
  {
   "cell_type": "code",
   "execution_count": null,
   "metadata": {},
   "outputs": [],
   "source": []
  },
  {
   "cell_type": "code",
   "execution_count": null,
   "metadata": {},
   "outputs": [],
   "source": []
  }
 ],
 "metadata": {
  "kernelspec": {
   "display_name": "Python 3",
   "language": "python",
   "name": "python3"
  },
  "language_info": {
   "codemirror_mode": {
    "name": "ipython",
    "version": 3
   },
   "file_extension": ".py",
   "mimetype": "text/x-python",
   "name": "python",
   "nbconvert_exporter": "python",
   "pygments_lexer": "ipython3",
   "version": "3.9.13"
  }
 },
 "nbformat": 4,
 "nbformat_minor": 2
}
