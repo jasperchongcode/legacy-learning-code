{
 "cells": [
  {
   "cell_type": "code",
   "execution_count": 5,
   "id": "baf18412",
   "metadata": {},
   "outputs": [
    {
     "ename": "ModuleNotFoundError",
     "evalue": "No module named 'optiver2023.competition'",
     "output_type": "error",
     "traceback": [
      "\u001b[0;31m---------------------------------------------------------------------------\u001b[0m",
      "\u001b[0;31mModuleNotFoundError\u001b[0m                       Traceback (most recent call last)",
      "\u001b[1;32m/Users/jasperchong/PycharmProjects/kaggle_competitions/optiver-trading-at-the-close/optiver-2023-basic-submission-demo.ipynb Cell 1\u001b[0m line \u001b[0;36m<cell line: 1>\u001b[0;34m()\u001b[0m\n\u001b[0;32m----> <a href='vscode-notebook-cell:/Users/jasperchong/PycharmProjects/kaggle_competitions/optiver-trading-at-the-close/optiver-2023-basic-submission-demo.ipynb#W2sZmlsZQ%3D%3D?line=0'>1</a>\u001b[0m \u001b[39mfrom\u001b[39;00m \u001b[39moptiver2023\u001b[39;00m \u001b[39mimport\u001b[39;00m competition\n",
      "File \u001b[0;32m~/PycharmProjects/kaggle_competitions/optiver-trading-at-the-close/optiver2023/__init__.py:2\u001b[0m, in \u001b[0;36m<module>\u001b[0;34m\u001b[0m\n\u001b[0;32m----> 2\u001b[0m \u001b[39mfrom\u001b[39;00m \u001b[39m.\u001b[39;00m\u001b[39mcompetition\u001b[39;00m \u001b[39mimport\u001b[39;00m make_env\n\u001b[1;32m      4\u001b[0m __all__ \u001b[39m=\u001b[39m [\u001b[39m'\u001b[39m\u001b[39mmake_env\u001b[39m\u001b[39m'\u001b[39m]\n",
      "\u001b[0;31mModuleNotFoundError\u001b[0m: No module named 'optiver2023.competition'"
     ]
    }
   ],
   "source": []
  },
  {
   "cell_type": "code",
   "execution_count": 1,
   "id": "9c268bd2",
   "metadata": {
    "execution": {
     "iopub.execute_input": "2023-09-27T22:06:47.069331Z",
     "iopub.status.busy": "2023-09-27T22:06:47.068894Z",
     "iopub.status.idle": "2023-09-27T22:06:48.067372Z",
     "shell.execute_reply": "2023-09-27T22:06:48.066029Z"
    },
    "papermill": {
     "duration": 1.006019,
     "end_time": "2023-09-27T22:06:48.070282",
     "exception": false,
     "start_time": "2023-09-27T22:06:47.064263",
     "status": "completed"
    },
    "tags": []
   },
   "outputs": [
    {
     "ename": "ModuleNotFoundError",
     "evalue": "No module named 'optiver2023'",
     "output_type": "error",
     "traceback": [
      "\u001b[0;31m---------------------------------------------------------------------------\u001b[0m",
      "\u001b[0;31mModuleNotFoundError\u001b[0m                       Traceback (most recent call last)",
      "\u001b[1;32m/Users/jasperchong/PycharmProjects/kaggle_competitions/optiver-trading-at-the-close/optiver2023/optiver-2023-basic-submission-demo.ipynb Cell 2\u001b[0m line \u001b[0;36m<cell line: 1>\u001b[0;34m()\u001b[0m\n\u001b[0;32m----> <a href='vscode-notebook-cell:/Users/jasperchong/PycharmProjects/kaggle_competitions/optiver-trading-at-the-close/optiver2023/optiver-2023-basic-submission-demo.ipynb#W3sZmlsZQ%3D%3D?line=0'>1</a>\u001b[0m \u001b[39mimport\u001b[39;00m \u001b[39moptiver2023\u001b[39;00m\n\u001b[1;32m      <a href='vscode-notebook-cell:/Users/jasperchong/PycharmProjects/kaggle_competitions/optiver-trading-at-the-close/optiver2023/optiver-2023-basic-submission-demo.ipynb#W3sZmlsZQ%3D%3D?line=1'>2</a>\u001b[0m env \u001b[39m=\u001b[39m optiver2023\u001b[39m.\u001b[39mmake_env()\n\u001b[1;32m      <a href='vscode-notebook-cell:/Users/jasperchong/PycharmProjects/kaggle_competitions/optiver-trading-at-the-close/optiver2023/optiver-2023-basic-submission-demo.ipynb#W3sZmlsZQ%3D%3D?line=2'>3</a>\u001b[0m iter_test \u001b[39m=\u001b[39m env\u001b[39m.\u001b[39miter_test()\n",
      "\u001b[0;31mModuleNotFoundError\u001b[0m: No module named 'optiver2023'"
     ]
    }
   ],
   "source": [
    "import optiver2023\n",
    "env = optiver2023.make_env()\n",
    "iter_test = env.iter_test()"
   ]
  },
  {
   "cell_type": "code",
   "execution_count": 2,
   "id": "3c78e041",
   "metadata": {
    "execution": {
     "iopub.execute_input": "2023-09-27T22:06:48.076968Z",
     "iopub.status.busy": "2023-09-27T22:06:48.076254Z",
     "iopub.status.idle": "2023-09-27T22:06:49.099521Z",
     "shell.execute_reply": "2023-09-27T22:06:49.098138Z"
    },
    "papermill": {
     "duration": 1.030056,
     "end_time": "2023-09-27T22:06:49.102737",
     "exception": false,
     "start_time": "2023-09-27T22:06:48.072681",
     "status": "completed"
    },
    "tags": []
   },
   "outputs": [
    {
     "name": "stdout",
     "output_type": "stream",
     "text": [
      "This version of the API is not optimized and should not be used to estimate the runtime of your code on the hidden test set.\n",
      "   stock_id  date_id  seconds_in_bucket  imbalance_size  \\\n",
      "0         0      478                  0      3753451.43   \n",
      "1         1      478                  0       985977.11   \n",
      "2         2      478                  0       599128.74   \n",
      "\n",
      "   imbalance_buy_sell_flag  reference_price  matched_size  far_price  \\\n",
      "0                       -1         0.999875   11548975.43        NaN   \n",
      "1                       -1         1.000245    3850033.97        NaN   \n",
      "2                        1         1.000584    4359198.25        NaN   \n",
      "\n",
      "   near_price  bid_price  bid_size  ask_price  ask_size  wap   row_id  \n",
      "0         NaN   0.999875  22940.00   1.000050   9177.60  1.0  478_0_0  \n",
      "1         NaN   0.999940   1967.90   1.000601  19692.00  1.0  478_0_1  \n",
      "2         NaN   0.999918   4488.22   1.000636  34955.12  1.0  478_0_2  \n",
      "   stock_id  date_id  seconds_in_bucket  revealed_target  revealed_date_id  \\\n",
      "0         0      478                  0        -2.310276               477   \n",
      "1         1      478                  0       -12.850165               477   \n",
      "2         2      478                  0        -0.439882               477   \n",
      "\n",
      "   revealed_time_id  \n",
      "0             26235  \n",
      "1             26235  \n",
      "2             26235  \n",
      "    row_id  target\n",
      "0  478_0_0     1.0\n",
      "1  478_0_1     1.0\n",
      "2  478_0_2     1.0\n"
     ]
    }
   ],
   "source": [
    "counter = 0\n",
    "for (test, revealed_targets, sample_prediction) in iter_test:\n",
    "    if counter == 0:\n",
    "        print(test.head(3))\n",
    "        print(revealed_targets.head(3))\n",
    "        print(sample_prediction.head(3))\n",
    "    sample_prediction['target'] = 0\n",
    "    env.predict(sample_prediction)\n",
    "    counter += 1"
   ]
  }
 ],
 "metadata": {
  "kernelspec": {
   "display_name": "Python 3",
   "language": "python",
   "name": "python3"
  },
  "language_info": {
   "codemirror_mode": {
    "name": "ipython",
    "version": 3
   },
   "file_extension": ".py",
   "mimetype": "text/x-python",
   "name": "python",
   "nbconvert_exporter": "python",
   "pygments_lexer": "ipython3",
   "version": "3.9.13"
  },
  "papermill": {
   "default_parameters": {},
   "duration": 7.05409,
   "end_time": "2023-09-27T22:06:49.831937",
   "environment_variables": {},
   "exception": null,
   "input_path": "__notebook__.ipynb",
   "output_path": "__notebook__.ipynb",
   "parameters": {},
   "start_time": "2023-09-27T22:06:42.777847",
   "version": "2.4.0"
  }
 },
 "nbformat": 4,
 "nbformat_minor": 5
}
